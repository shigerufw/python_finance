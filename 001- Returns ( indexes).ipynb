{
 "cells": [
  {
   "cell_type": "code",
   "execution_count": 1,
   "metadata": {},
   "outputs": [
    {
     "name": "stderr",
     "output_type": "stream",
     "text": [
      "c:\\users\\home_041\\miniconda3\\lib\\site-packages\\pandas_datareader\\compat\\__init__.py:7: FutureWarning: pandas.util.testing is deprecated. Use the functions in the public API at pandas.testing instead.\n",
      "  from pandas.util.testing import assert_frame_equal\n"
     ]
    }
   ],
   "source": [
    "import numpy as np\n",
    "import pandas as pd\n",
    "import matplotlib.pyplot as plt\n",
    "import seaborn as sns\n",
    "import pandas_datareader as web\n",
    "import datetime\n",
    "%matplotlib inline"
   ]
  },
  {
   "cell_type": "markdown",
   "metadata": {},
   "source": [
    "### This notebook we're going to see the basics about returns\n",
    "<h4>Look for the tickers below </h4>\n",
    "\n",
    "<ul>\n",
    "    <li>Nasdaq Composite(US)</li>\n",
    "    <li>SP500(US)</li>\n",
    "    <li>BOVESPA(BR)</li>\n",
    "    <li>Down Jones ind(US)</li>\n",
    "    <li>CAC40(FR)</li>\n",
    "    <li>DAX(DE)</li>\n",
    "    <li>Nikkey225(JPN)</li>\n",
    "    <li> Hang Seng (CHN) </li>\n",
    "    \n",
    "</ul>"
   ]
  },
  {
   "cell_type": "markdown",
   "metadata": {},
   "source": [
    "## Time Frame\n",
    "\n",
    "<h5> selecting how many datapoints to fetch from the data </h5>"
   ]
  },
  {
   "cell_type": "code",
   "execution_count": 2,
   "metadata": {},
   "outputs": [
    {
     "name": "stdout",
     "output_type": "stream",
     "text": [
      "2019-03-21 17:27:34.981705\n",
      "2020-03-20 17:27:34.981705\n"
     ]
    }
   ],
   "source": [
    "#2 work weeks, it's fast\n",
    "#1 year to get 252 data points\n",
    "delta_time = datetime.timedelta(days = 365)\n",
    "end = datetime.datetime.now() #today\n",
    "start = end - delta_time\n",
    "print(start)\n",
    "print(end)"
   ]
  },
  {
   "cell_type": "markdown",
   "metadata": {},
   "source": [
    "### Fetching Stooq Data"
   ]
  },
  {
   "cell_type": "code",
   "execution_count": 3,
   "metadata": {},
   "outputs": [],
   "source": [
    "tickers = \"^NDQ ^BVP ^DJI ^SPX ^CAC ^DAX ^NKX ^HSI\".split()\n",
    "ticker_names = \"Nasdaq Bovespa Down_Jones_ind SP500 CAC40 DAX Nikkey225 Hang_Seng\".split()"
   ]
  },
  {
   "cell_type": "markdown",
   "metadata": {},
   "source": [
    "### Fetching one dataframe "
   ]
  },
  {
   "cell_type": "code",
   "execution_count": 4,
   "metadata": {},
   "outputs": [
    {
     "data": {
      "text/html": [
       "<div>\n",
       "<style scoped>\n",
       "    .dataframe tbody tr th:only-of-type {\n",
       "        vertical-align: middle;\n",
       "    }\n",
       "\n",
       "    .dataframe tbody tr th {\n",
       "        vertical-align: top;\n",
       "    }\n",
       "\n",
       "    .dataframe thead th {\n",
       "        text-align: right;\n",
       "    }\n",
       "</style>\n",
       "<table border=\"1\" class=\"dataframe\">\n",
       "  <thead>\n",
       "    <tr style=\"text-align: right;\">\n",
       "      <th></th>\n",
       "      <th>Open</th>\n",
       "      <th>High</th>\n",
       "      <th>Low</th>\n",
       "      <th>Close</th>\n",
       "      <th>Volume</th>\n",
       "    </tr>\n",
       "    <tr>\n",
       "      <th>Date</th>\n",
       "      <th></th>\n",
       "      <th></th>\n",
       "      <th></th>\n",
       "      <th></th>\n",
       "      <th></th>\n",
       "    </tr>\n",
       "  </thead>\n",
       "  <tbody>\n",
       "    <tr>\n",
       "      <th>2020-03-19</th>\n",
       "      <td>6996.453</td>\n",
       "      <td>7341.379</td>\n",
       "      <td>6858.383</td>\n",
       "      <td>7150.578</td>\n",
       "      <td>1187856968</td>\n",
       "    </tr>\n",
       "    <tr>\n",
       "      <th>2020-03-18</th>\n",
       "      <td>6902.316</td>\n",
       "      <td>7182.828</td>\n",
       "      <td>6686.355</td>\n",
       "      <td>6989.844</td>\n",
       "      <td>1265023054</td>\n",
       "    </tr>\n",
       "    <tr>\n",
       "      <th>2020-03-17</th>\n",
       "      <td>7072.000</td>\n",
       "      <td>7406.230</td>\n",
       "      <td>6828.914</td>\n",
       "      <td>7334.782</td>\n",
       "      <td>1294094013</td>\n",
       "    </tr>\n",
       "    <tr>\n",
       "      <th>2020-03-16</th>\n",
       "      <td>7392.730</td>\n",
       "      <td>7422.199</td>\n",
       "      <td>6882.863</td>\n",
       "      <td>6904.592</td>\n",
       "      <td>1269305076</td>\n",
       "    </tr>\n",
       "    <tr>\n",
       "      <th>2020-03-13</th>\n",
       "      <td>7610.387</td>\n",
       "      <td>7875.929</td>\n",
       "      <td>7219.094</td>\n",
       "      <td>7874.875</td>\n",
       "      <td>1251395334</td>\n",
       "    </tr>\n",
       "    <tr>\n",
       "      <th>...</th>\n",
       "      <td>...</td>\n",
       "      <td>...</td>\n",
       "      <td>...</td>\n",
       "      <td>...</td>\n",
       "      <td>...</td>\n",
       "    </tr>\n",
       "    <tr>\n",
       "      <th>2015-03-27</th>\n",
       "      <td>4863.740</td>\n",
       "      <td>4899.240</td>\n",
       "      <td>4859.710</td>\n",
       "      <td>4891.220</td>\n",
       "      <td>432171776</td>\n",
       "    </tr>\n",
       "    <tr>\n",
       "      <th>2015-03-26</th>\n",
       "      <td>4835.710</td>\n",
       "      <td>4889.120</td>\n",
       "      <td>4826.200</td>\n",
       "      <td>4863.360</td>\n",
       "      <td>491806176</td>\n",
       "    </tr>\n",
       "    <tr>\n",
       "      <th>2015-03-25</th>\n",
       "      <td>5002.830</td>\n",
       "      <td>5006.720</td>\n",
       "      <td>4876.520</td>\n",
       "      <td>4876.520</td>\n",
       "      <td>521368896</td>\n",
       "    </tr>\n",
       "    <tr>\n",
       "      <th>2015-03-24</th>\n",
       "      <td>5010.100</td>\n",
       "      <td>5032.120</td>\n",
       "      <td>4994.730</td>\n",
       "      <td>4994.730</td>\n",
       "      <td>387329664</td>\n",
       "    </tr>\n",
       "    <tr>\n",
       "      <th>2015-03-23</th>\n",
       "      <td>5020.600</td>\n",
       "      <td>5031.390</td>\n",
       "      <td>5010.970</td>\n",
       "      <td>5010.970</td>\n",
       "      <td>398293952</td>\n",
       "    </tr>\n",
       "  </tbody>\n",
       "</table>\n",
       "<p>1258 rows × 5 columns</p>\n",
       "</div>"
      ],
      "text/plain": [
       "                Open      High       Low     Close      Volume\n",
       "Date                                                          \n",
       "2020-03-19  6996.453  7341.379  6858.383  7150.578  1187856968\n",
       "2020-03-18  6902.316  7182.828  6686.355  6989.844  1265023054\n",
       "2020-03-17  7072.000  7406.230  6828.914  7334.782  1294094013\n",
       "2020-03-16  7392.730  7422.199  6882.863  6904.592  1269305076\n",
       "2020-03-13  7610.387  7875.929  7219.094  7874.875  1251395334\n",
       "...              ...       ...       ...       ...         ...\n",
       "2015-03-27  4863.740  4899.240  4859.710  4891.220   432171776\n",
       "2015-03-26  4835.710  4889.120  4826.200  4863.360   491806176\n",
       "2015-03-25  5002.830  5006.720  4876.520  4876.520   521368896\n",
       "2015-03-24  5010.100  5032.120  4994.730  4994.730   387329664\n",
       "2015-03-23  5020.600  5031.390  5010.970  5010.970   398293952\n",
       "\n",
       "[1258 rows x 5 columns]"
      ]
     },
     "execution_count": 4,
     "metadata": {},
     "output_type": "execute_result"
    }
   ],
   "source": [
    "nasdaq = web.DataReader(tickers[0], 'stooq', start =start, end =end )\n",
    "nasdaq"
   ]
  },
  {
   "cell_type": "code",
   "execution_count": 5,
   "metadata": {},
   "outputs": [
    {
     "data": {
      "text/html": [
       "<div>\n",
       "<style scoped>\n",
       "    .dataframe tbody tr th:only-of-type {\n",
       "        vertical-align: middle;\n",
       "    }\n",
       "\n",
       "    .dataframe tbody tr th {\n",
       "        vertical-align: top;\n",
       "    }\n",
       "\n",
       "    .dataframe thead th {\n",
       "        text-align: right;\n",
       "    }\n",
       "</style>\n",
       "<table border=\"1\" class=\"dataframe\">\n",
       "  <thead>\n",
       "    <tr style=\"text-align: right;\">\n",
       "      <th></th>\n",
       "      <th>Open</th>\n",
       "      <th>High</th>\n",
       "      <th>Low</th>\n",
       "      <th>Close</th>\n",
       "      <th>Volume</th>\n",
       "    </tr>\n",
       "    <tr>\n",
       "      <th>Date</th>\n",
       "      <th></th>\n",
       "      <th></th>\n",
       "      <th></th>\n",
       "      <th></th>\n",
       "      <th></th>\n",
       "    </tr>\n",
       "  </thead>\n",
       "  <tbody>\n",
       "    <tr>\n",
       "      <th>2020-03-19</th>\n",
       "      <td>6996.453</td>\n",
       "      <td>7341.379</td>\n",
       "      <td>6858.383</td>\n",
       "      <td>7150.578</td>\n",
       "      <td>1187856968</td>\n",
       "    </tr>\n",
       "    <tr>\n",
       "      <th>2020-03-18</th>\n",
       "      <td>6902.316</td>\n",
       "      <td>7182.828</td>\n",
       "      <td>6686.355</td>\n",
       "      <td>6989.844</td>\n",
       "      <td>1265023054</td>\n",
       "    </tr>\n",
       "    <tr>\n",
       "      <th>2020-03-17</th>\n",
       "      <td>7072.000</td>\n",
       "      <td>7406.230</td>\n",
       "      <td>6828.914</td>\n",
       "      <td>7334.782</td>\n",
       "      <td>1294094013</td>\n",
       "    </tr>\n",
       "    <tr>\n",
       "      <th>2020-03-16</th>\n",
       "      <td>7392.730</td>\n",
       "      <td>7422.199</td>\n",
       "      <td>6882.863</td>\n",
       "      <td>6904.592</td>\n",
       "      <td>1269305076</td>\n",
       "    </tr>\n",
       "    <tr>\n",
       "      <th>2020-03-13</th>\n",
       "      <td>7610.387</td>\n",
       "      <td>7875.929</td>\n",
       "      <td>7219.094</td>\n",
       "      <td>7874.875</td>\n",
       "      <td>1251395334</td>\n",
       "    </tr>\n",
       "    <tr>\n",
       "      <th>...</th>\n",
       "      <td>...</td>\n",
       "      <td>...</td>\n",
       "      <td>...</td>\n",
       "      <td>...</td>\n",
       "      <td>...</td>\n",
       "    </tr>\n",
       "    <tr>\n",
       "      <th>2019-03-28</th>\n",
       "      <td>7660.070</td>\n",
       "      <td>7689.160</td>\n",
       "      <td>7619.820</td>\n",
       "      <td>7669.170</td>\n",
       "      <td>483797456</td>\n",
       "    </tr>\n",
       "    <tr>\n",
       "      <th>2019-03-27</th>\n",
       "      <td>7702.050</td>\n",
       "      <td>7712.840</td>\n",
       "      <td>7582.090</td>\n",
       "      <td>7643.380</td>\n",
       "      <td>555976960</td>\n",
       "    </tr>\n",
       "    <tr>\n",
       "      <th>2019-03-26</th>\n",
       "      <td>7700.000</td>\n",
       "      <td>7738.170</td>\n",
       "      <td>7649.210</td>\n",
       "      <td>7691.520</td>\n",
       "      <td>518722169</td>\n",
       "    </tr>\n",
       "    <tr>\n",
       "      <th>2019-03-25</th>\n",
       "      <td>7618.980</td>\n",
       "      <td>7662.380</td>\n",
       "      <td>7579.290</td>\n",
       "      <td>7637.540</td>\n",
       "      <td>517731993</td>\n",
       "    </tr>\n",
       "    <tr>\n",
       "      <th>2019-03-22</th>\n",
       "      <td>7800.250</td>\n",
       "      <td>7817.830</td>\n",
       "      <td>7642.570</td>\n",
       "      <td>7642.670</td>\n",
       "      <td>625429293</td>\n",
       "    </tr>\n",
       "  </tbody>\n",
       "</table>\n",
       "<p>251 rows × 5 columns</p>\n",
       "</div>"
      ],
      "text/plain": [
       "                Open      High       Low     Close      Volume\n",
       "Date                                                          \n",
       "2020-03-19  6996.453  7341.379  6858.383  7150.578  1187856968\n",
       "2020-03-18  6902.316  7182.828  6686.355  6989.844  1265023054\n",
       "2020-03-17  7072.000  7406.230  6828.914  7334.782  1294094013\n",
       "2020-03-16  7392.730  7422.199  6882.863  6904.592  1269305076\n",
       "2020-03-13  7610.387  7875.929  7219.094  7874.875  1251395334\n",
       "...              ...       ...       ...       ...         ...\n",
       "2019-03-28  7660.070  7689.160  7619.820  7669.170   483797456\n",
       "2019-03-27  7702.050  7712.840  7582.090  7643.380   555976960\n",
       "2019-03-26  7700.000  7738.170  7649.210  7691.520   518722169\n",
       "2019-03-25  7618.980  7662.380  7579.290  7637.540   517731993\n",
       "2019-03-22  7800.250  7817.830  7642.570  7642.670   625429293\n",
       "\n",
       "[251 rows x 5 columns]"
      ]
     },
     "execution_count": 5,
     "metadata": {},
     "output_type": "execute_result"
    }
   ],
   "source": [
    "#something is wrong with the \"start\", let's fix it by conditional selection in the index\n",
    "nasdaq = nasdaq[nasdaq.index >= start]\n",
    "nasdaq"
   ]
  },
  {
   "cell_type": "markdown",
   "metadata": {},
   "source": [
    "### fetching all dataframes"
   ]
  },
  {
   "cell_type": "code",
   "execution_count": 6,
   "metadata": {},
   "outputs": [],
   "source": [
    "for item in range(len(tickers)):\n",
    "    #bending rules here ^~\n",
    "    #using exec func to create automatic pandas dataframes\n",
    "    exec(\"%s = web.DataReader(tickers[item], \\'stooq\\', start = start, end = end)\" %(ticker_names[item]))\n",
    "    #fixing the date issue\n",
    "    exec(\"%s = %s[%s.index >= start]\" %(ticker_names[item],ticker_names[item], ticker_names[item]))\n",
    "    \n",
    "    \n",
    "    #print(\"fetch %s dataframe\"%(ticker_names[item]))"
   ]
  },
  {
   "cell_type": "markdown",
   "metadata": {},
   "source": [
    "### Selecting just the close values"
   ]
  },
  {
   "cell_type": "code",
   "execution_count": 7,
   "metadata": {},
   "outputs": [],
   "source": [
    "#slicing the dataframe\n",
    "for item in range(len(tickers)):\n",
    "    exec(\"%s = %s['Close']\" %(ticker_names[item],ticker_names[item]))"
   ]
  },
  {
   "cell_type": "code",
   "execution_count": 8,
   "metadata": {},
   "outputs": [],
   "source": [
    "#sorting the dataframe\n",
    "\n",
    "for item in range(len(tickers)):\n",
    "    exec(\"%s = %s.sort_index()\" %(ticker_names[item],ticker_names[item]))"
   ]
  },
  {
   "cell_type": "markdown",
   "metadata": {},
   "source": [
    "### 1 Method - using iloc"
   ]
  },
  {
   "cell_type": "markdown",
   "metadata": {},
   "source": [
    "<b> It Won't work</b> because it will find the data index and divide it by itself"
   ]
  },
  {
   "cell_type": "code",
   "execution_count": 9,
   "metadata": {},
   "outputs": [
    {
     "data": {
      "text/plain": [
       "Date\n",
       "2019-03-22    NaN\n",
       "2019-03-25    1.0\n",
       "2019-03-26    1.0\n",
       "2019-03-27    1.0\n",
       "2019-03-28    1.0\n",
       "             ... \n",
       "2020-03-13    1.0\n",
       "2020-03-16    1.0\n",
       "2020-03-17    1.0\n",
       "2020-03-18    1.0\n",
       "2020-03-19    NaN\n",
       "Name: Close, Length: 251, dtype: float64"
      ]
     },
     "execution_count": 9,
     "metadata": {},
     "output_type": "execute_result"
    }
   ],
   "source": [
    "SP500.iloc[1:]/SP500.iloc[:-1]"
   ]
  },
  {
   "cell_type": "markdown",
   "metadata": {},
   "source": [
    "### 1.1 - iloc.values()"
   ]
  },
  {
   "cell_type": "markdown",
   "metadata": {},
   "source": [
    "<b> It will work </b>because it will get the values of the divided number and align the index of the divisor, if you use \"values\" in both numbers it will return a pandas array without data indexes "
   ]
  },
  {
   "cell_type": "code",
   "execution_count": 10,
   "metadata": {},
   "outputs": [
    {
     "data": {
      "text/plain": [
       "Date\n",
       "2019-03-22   -0.000839\n",
       "2019-03-25    0.007183\n",
       "2019-03-26   -0.004644\n",
       "2019-03-27    0.003590\n",
       "2019-03-28    0.006734\n",
       "                ...   \n",
       "2020-03-12    0.092871\n",
       "2020-03-13   -0.119841\n",
       "2020-03-16    0.059955\n",
       "2020-03-17   -0.051831\n",
       "2020-03-18    0.004708\n",
       "Name: Close, Length: 250, dtype: float64"
      ]
     },
     "execution_count": 10,
     "metadata": {},
     "output_type": "execute_result"
    }
   ],
   "source": [
    "sp500_ret_iloc =(SP500.iloc[1:].values/SP500.iloc[:-1]-1)\n",
    "sp500_ret_iloc"
   ]
  },
  {
   "cell_type": "markdown",
   "metadata": {},
   "source": [
    "### 2 Method - using shift(1)"
   ]
  },
  {
   "cell_type": "code",
   "execution_count": 11,
   "metadata": {},
   "outputs": [
    {
     "data": {
      "text/plain": [
       "Date\n",
       "2019-03-22    2800.71\n",
       "2019-03-25    2798.36\n",
       "2019-03-26    2818.46\n",
       "2019-03-27    2805.37\n",
       "2019-03-28    2815.44\n",
       "               ...   \n",
       "2020-03-13    2711.02\n",
       "2020-03-16    2386.13\n",
       "2020-03-17    2529.19\n",
       "2020-03-18    2398.10\n",
       "2020-03-19    2409.39\n",
       "Name: Close, Length: 251, dtype: float64"
      ]
     },
     "execution_count": 11,
     "metadata": {},
     "output_type": "execute_result"
    }
   ],
   "source": [
    "SP500"
   ]
  },
  {
   "cell_type": "code",
   "execution_count": 12,
   "metadata": {},
   "outputs": [
    {
     "data": {
      "text/plain": [
       "Date\n",
       "2019-03-22        NaN\n",
       "2019-03-25    2800.71\n",
       "2019-03-26    2798.36\n",
       "2019-03-27    2818.46\n",
       "2019-03-28    2805.37\n",
       "               ...   \n",
       "2020-03-13    2480.64\n",
       "2020-03-16    2711.02\n",
       "2020-03-17    2386.13\n",
       "2020-03-18    2529.19\n",
       "2020-03-19    2398.10\n",
       "Name: Close, Length: 251, dtype: float64"
      ]
     },
     "execution_count": 12,
     "metadata": {},
     "output_type": "execute_result"
    }
   ],
   "source": [
    "SP500.shift(1)"
   ]
  },
  {
   "cell_type": "code",
   "execution_count": 13,
   "metadata": {},
   "outputs": [
    {
     "data": {
      "text/plain": [
       "Date\n",
       "2019-03-22         NaN\n",
       "2019-03-25   -0.000839\n",
       "2019-03-26    0.007183\n",
       "2019-03-27   -0.004644\n",
       "2019-03-28    0.003590\n",
       "                ...   \n",
       "2020-03-13    0.092871\n",
       "2020-03-16   -0.119841\n",
       "2020-03-17    0.059955\n",
       "2020-03-18   -0.051831\n",
       "2020-03-19    0.004708\n",
       "Name: Close, Length: 251, dtype: float64"
      ]
     },
     "execution_count": 13,
     "metadata": {},
     "output_type": "execute_result"
    }
   ],
   "source": [
    "sp500_ret_shift = SP500/SP500.shift(1)-1\n",
    "sp500_ret_shift"
   ]
  },
  {
   "cell_type": "markdown",
   "metadata": {},
   "source": [
    "### 3 method - pct_change()"
   ]
  },
  {
   "cell_type": "code",
   "execution_count": 14,
   "metadata": {},
   "outputs": [
    {
     "data": {
      "text/plain": [
       "Date\n",
       "2019-03-22         NaN\n",
       "2019-03-25   -0.000839\n",
       "2019-03-26    0.007183\n",
       "2019-03-27   -0.004644\n",
       "2019-03-28    0.003590\n",
       "                ...   \n",
       "2020-03-13    0.092871\n",
       "2020-03-16   -0.119841\n",
       "2020-03-17    0.059955\n",
       "2020-03-18   -0.051831\n",
       "2020-03-19    0.004708\n",
       "Name: Close, Length: 251, dtype: float64"
      ]
     },
     "execution_count": 14,
     "metadata": {},
     "output_type": "execute_result"
    }
   ],
   "source": [
    "sp500_ret_pct_change = SP500.pct_change()\n",
    "sp500_ret_pct_change"
   ]
  },
  {
   "cell_type": "code",
   "execution_count": 15,
   "metadata": {},
   "outputs": [
    {
     "name": "stdout",
     "output_type": "stream",
     "text": [
      "['Nasdaq', 'Bovespa', 'Down_Jones_ind', 'SP500', 'CAC40', 'DAX', 'Nikkey225', 'Hang_Seng']\n"
     ]
    }
   ],
   "source": [
    "print(ticker_names)"
   ]
  },
  {
   "cell_type": "code",
   "execution_count": 16,
   "metadata": {},
   "outputs": [
    {
     "data": {
      "text/plain": [
       "Date\n",
       "2019-03-22         NaN\n",
       "2019-03-25   -0.000780\n",
       "2019-03-26    0.017561\n",
       "2019-03-27   -0.035710\n",
       "2019-03-28    0.027045\n",
       "                ...   \n",
       "2020-03-13    0.139089\n",
       "2020-03-16   -0.139213\n",
       "2020-03-17    0.048464\n",
       "2020-03-18   -0.103492\n",
       "2020-03-19    0.021480\n",
       "Name: Close, Length: 248, dtype: float64"
      ]
     },
     "execution_count": 16,
     "metadata": {},
     "output_type": "execute_result"
    }
   ],
   "source": [
    "Bovespa.pct_change()"
   ]
  },
  {
   "cell_type": "code",
   "execution_count": 17,
   "metadata": {},
   "outputs": [],
   "source": [
    "Bovespa_ret = Bovespa.pct_change()"
   ]
  },
  {
   "cell_type": "markdown",
   "metadata": {},
   "source": [
    "### Getting the pct_change from all ticks"
   ]
  },
  {
   "cell_type": "code",
   "execution_count": 18,
   "metadata": {},
   "outputs": [],
   "source": [
    "for i in range(len(ticker_names)):\n",
    "    exec(\"%s_ret = %s.pct_change()\" %(ticker_names[i],ticker_names[i]))"
   ]
  },
  {
   "cell_type": "code",
   "execution_count": 19,
   "metadata": {},
   "outputs": [
    {
     "data": {
      "text/plain": [
       "count    247.000000\n",
       "mean      -0.000988\n",
       "std        0.023737\n",
       "min       -0.147804\n",
       "25%       -0.006996\n",
       "50%        0.001513\n",
       "75%        0.008855\n",
       "max        0.139089\n",
       "Name: Close, dtype: float64"
      ]
     },
     "execution_count": 19,
     "metadata": {},
     "output_type": "execute_result"
    }
   ],
   "source": [
    "Bovespa_ret.describe()"
   ]
  },
  {
   "cell_type": "code",
   "execution_count": 20,
   "metadata": {},
   "outputs": [
    {
     "data": {
      "text/plain": [
       "Date\n",
       "2019-03-22         NaN\n",
       "2019-03-25   -0.000839\n",
       "2019-03-26    0.007183\n",
       "2019-03-27   -0.004644\n",
       "2019-03-28    0.003590\n",
       "                ...   \n",
       "2020-03-13    0.092871\n",
       "2020-03-16   -0.119841\n",
       "2020-03-17    0.059955\n",
       "2020-03-18   -0.051831\n",
       "2020-03-19    0.004708\n",
       "Name: Close, Length: 251, dtype: float64"
      ]
     },
     "execution_count": 20,
     "metadata": {},
     "output_type": "execute_result"
    }
   ],
   "source": [
    "SP500_ret"
   ]
  },
  {
   "cell_type": "markdown",
   "metadata": {},
   "source": [
    "### Creating a Pandas Dataframe with all returns"
   ]
  },
  {
   "cell_type": "code",
   "execution_count": 21,
   "metadata": {
    "scrolled": false
   },
   "outputs": [
    {
     "data": {
      "text/html": [
       "<div>\n",
       "<style scoped>\n",
       "    .dataframe tbody tr th:only-of-type {\n",
       "        vertical-align: middle;\n",
       "    }\n",
       "\n",
       "    .dataframe tbody tr th {\n",
       "        vertical-align: top;\n",
       "    }\n",
       "\n",
       "    .dataframe thead th {\n",
       "        text-align: right;\n",
       "    }\n",
       "</style>\n",
       "<table border=\"1\" class=\"dataframe\">\n",
       "  <thead>\n",
       "    <tr style=\"text-align: right;\">\n",
       "      <th></th>\n",
       "      <th>Bovespa</th>\n",
       "    </tr>\n",
       "    <tr>\n",
       "      <th>Date</th>\n",
       "      <th></th>\n",
       "    </tr>\n",
       "  </thead>\n",
       "  <tbody>\n",
       "    <tr>\n",
       "      <th>2019-03-22</th>\n",
       "      <td>NaN</td>\n",
       "    </tr>\n",
       "    <tr>\n",
       "      <th>2019-03-25</th>\n",
       "      <td>-0.000780</td>\n",
       "    </tr>\n",
       "    <tr>\n",
       "      <th>2019-03-26</th>\n",
       "      <td>0.017561</td>\n",
       "    </tr>\n",
       "    <tr>\n",
       "      <th>2019-03-27</th>\n",
       "      <td>-0.035710</td>\n",
       "    </tr>\n",
       "    <tr>\n",
       "      <th>2019-03-28</th>\n",
       "      <td>0.027045</td>\n",
       "    </tr>\n",
       "    <tr>\n",
       "      <th>...</th>\n",
       "      <td>...</td>\n",
       "    </tr>\n",
       "    <tr>\n",
       "      <th>2020-03-13</th>\n",
       "      <td>0.139089</td>\n",
       "    </tr>\n",
       "    <tr>\n",
       "      <th>2020-03-16</th>\n",
       "      <td>-0.139213</td>\n",
       "    </tr>\n",
       "    <tr>\n",
       "      <th>2020-03-17</th>\n",
       "      <td>0.048464</td>\n",
       "    </tr>\n",
       "    <tr>\n",
       "      <th>2020-03-18</th>\n",
       "      <td>-0.103492</td>\n",
       "    </tr>\n",
       "    <tr>\n",
       "      <th>2020-03-19</th>\n",
       "      <td>0.021480</td>\n",
       "    </tr>\n",
       "  </tbody>\n",
       "</table>\n",
       "<p>248 rows × 1 columns</p>\n",
       "</div>"
      ],
      "text/plain": [
       "             Bovespa\n",
       "Date                \n",
       "2019-03-22       NaN\n",
       "2019-03-25 -0.000780\n",
       "2019-03-26  0.017561\n",
       "2019-03-27 -0.035710\n",
       "2019-03-28  0.027045\n",
       "...              ...\n",
       "2020-03-13  0.139089\n",
       "2020-03-16 -0.139213\n",
       "2020-03-17  0.048464\n",
       "2020-03-18 -0.103492\n",
       "2020-03-19  0.021480\n",
       "\n",
       "[248 rows x 1 columns]"
      ]
     },
     "execution_count": 21,
     "metadata": {},
     "output_type": "execute_result"
    }
   ],
   "source": [
    "data = pd.DataFrame()\n",
    "data['Bovespa'] = Bovespa_ret\n",
    "data"
   ]
  },
  {
   "cell_type": "code",
   "execution_count": 22,
   "metadata": {},
   "outputs": [],
   "source": [
    "for i in range(len(ticker_names)):\n",
    "    exec(\"data[\\'%s\\']= %s_ret\" %(ticker_names[i], ticker_names[i]))"
   ]
  },
  {
   "cell_type": "markdown",
   "metadata": {},
   "source": [
    "### Statistics"
   ]
  },
  {
   "cell_type": "code",
   "execution_count": 23,
   "metadata": {},
   "outputs": [
    {
     "data": {
      "text/plain": [
       "Bovespa           0.023737\n",
       "Nasdaq            0.017941\n",
       "Down_Jones_ind    0.017786\n",
       "SP500             0.017067\n",
       "CAC40             0.014535\n",
       "DAX               0.014338\n",
       "Nikkey225         0.011285\n",
       "Hang_Seng         0.011834\n",
       "dtype: float64"
      ]
     },
     "execution_count": 23,
     "metadata": {},
     "output_type": "execute_result"
    }
   ],
   "source": [
    "data.std()"
   ]
  },
  {
   "cell_type": "code",
   "execution_count": 24,
   "metadata": {},
   "outputs": [
    {
     "data": {
      "text/plain": [
       "Bovespa          -0.000988\n",
       "Nasdaq            0.000105\n",
       "Down_Jones_ind   -0.000577\n",
       "SP500            -0.000247\n",
       "CAC40            -0.000935\n",
       "DAX              -0.000769\n",
       "Nikkey225        -0.000996\n",
       "Hang_Seng        -0.001065\n",
       "dtype: float64"
      ]
     },
     "execution_count": 24,
     "metadata": {},
     "output_type": "execute_result"
    }
   ],
   "source": [
    "data.mean()"
   ]
  },
  {
   "cell_type": "markdown",
   "metadata": {},
   "source": [
    "### Cummulative Products"
   ]
  },
  {
   "cell_type": "code",
   "execution_count": 25,
   "metadata": {},
   "outputs": [
    {
     "data": {
      "text/plain": [
       "Bovespa          -0.271012\n",
       "Nasdaq           -0.014086\n",
       "Down_Jones_ind   -0.163246\n",
       "SP500            -0.091032\n",
       "CAC40            -0.225846\n",
       "DAX              -0.191652\n",
       "Nikkey225        -0.217311\n",
       "Hang_Seng        -0.236023\n",
       "dtype: float64"
      ]
     },
     "execution_count": 25,
     "metadata": {},
     "output_type": "execute_result"
    }
   ],
   "source": [
    "#with numpy\n",
    "np.prod(data+1)-1"
   ]
  },
  {
   "cell_type": "code",
   "execution_count": 26,
   "metadata": {},
   "outputs": [
    {
     "data": {
      "text/plain": [
       "Bovespa          -0.271012\n",
       "Nasdaq           -0.014086\n",
       "Down_Jones_ind   -0.163246\n",
       "SP500            -0.091032\n",
       "CAC40            -0.225846\n",
       "DAX              -0.191652\n",
       "Nikkey225        -0.217311\n",
       "Hang_Seng        -0.236023\n",
       "dtype: float64"
      ]
     },
     "execution_count": 26,
     "metadata": {},
     "output_type": "execute_result"
    }
   ],
   "source": [
    "#pandas df\n",
    "(data+1).prod()-1"
   ]
  },
  {
   "cell_type": "code",
   "execution_count": 27,
   "metadata": {},
   "outputs": [
    {
     "data": {
      "text/html": [
       "<div>\n",
       "<style scoped>\n",
       "    .dataframe tbody tr th:only-of-type {\n",
       "        vertical-align: middle;\n",
       "    }\n",
       "\n",
       "    .dataframe tbody tr th {\n",
       "        vertical-align: top;\n",
       "    }\n",
       "\n",
       "    .dataframe thead th {\n",
       "        text-align: right;\n",
       "    }\n",
       "</style>\n",
       "<table border=\"1\" class=\"dataframe\">\n",
       "  <thead>\n",
       "    <tr style=\"text-align: right;\">\n",
       "      <th></th>\n",
       "      <th>Bovespa</th>\n",
       "      <th>Nasdaq</th>\n",
       "      <th>Down_Jones_ind</th>\n",
       "      <th>SP500</th>\n",
       "      <th>CAC40</th>\n",
       "      <th>DAX</th>\n",
       "      <th>Nikkey225</th>\n",
       "      <th>Hang_Seng</th>\n",
       "    </tr>\n",
       "    <tr>\n",
       "      <th>Date</th>\n",
       "      <th></th>\n",
       "      <th></th>\n",
       "      <th></th>\n",
       "      <th></th>\n",
       "      <th></th>\n",
       "      <th></th>\n",
       "      <th></th>\n",
       "      <th></th>\n",
       "    </tr>\n",
       "  </thead>\n",
       "  <tbody>\n",
       "    <tr>\n",
       "      <th>2019-03-22</th>\n",
       "      <td>NaN</td>\n",
       "      <td>NaN</td>\n",
       "      <td>NaN</td>\n",
       "      <td>NaN</td>\n",
       "      <td>NaN</td>\n",
       "      <td>NaN</td>\n",
       "      <td>NaN</td>\n",
       "      <td>NaN</td>\n",
       "    </tr>\n",
       "    <tr>\n",
       "      <th>2019-03-25</th>\n",
       "      <td>0.999220</td>\n",
       "      <td>0.999329</td>\n",
       "      <td>1.000569</td>\n",
       "      <td>0.999161</td>\n",
       "      <td>0.998239</td>\n",
       "      <td>0.998458</td>\n",
       "      <td>0.969935</td>\n",
       "      <td>0.979734</td>\n",
       "    </tr>\n",
       "    <tr>\n",
       "      <th>2019-03-26</th>\n",
       "      <td>1.016767</td>\n",
       "      <td>1.006392</td>\n",
       "      <td>1.006094</td>\n",
       "      <td>1.006338</td>\n",
       "      <td>1.007108</td>\n",
       "      <td>1.004867</td>\n",
       "      <td>0.990801</td>\n",
       "      <td>0.981230</td>\n",
       "    </tr>\n",
       "    <tr>\n",
       "      <th>2019-03-27</th>\n",
       "      <td>0.980458</td>\n",
       "      <td>1.000093</td>\n",
       "      <td>1.004834</td>\n",
       "      <td>1.001664</td>\n",
       "      <td>1.005943</td>\n",
       "      <td>1.004828</td>\n",
       "      <td>0.988505</td>\n",
       "      <td>0.986772</td>\n",
       "    </tr>\n",
       "    <tr>\n",
       "      <th>2019-03-28</th>\n",
       "      <td>1.006975</td>\n",
       "      <td>1.003467</td>\n",
       "      <td>1.008436</td>\n",
       "      <td>1.005259</td>\n",
       "      <td>1.005051</td>\n",
       "      <td>1.005631</td>\n",
       "      <td>0.972554</td>\n",
       "      <td>0.988385</td>\n",
       "    </tr>\n",
       "    <tr>\n",
       "      <th>...</th>\n",
       "      <td>...</td>\n",
       "      <td>...</td>\n",
       "      <td>...</td>\n",
       "      <td>...</td>\n",
       "      <td>...</td>\n",
       "      <td>...</td>\n",
       "      <td>...</td>\n",
       "      <td>...</td>\n",
       "    </tr>\n",
       "    <tr>\n",
       "      <th>2020-03-13</th>\n",
       "      <td>0.882037</td>\n",
       "      <td>1.085779</td>\n",
       "      <td>0.965823</td>\n",
       "      <td>1.022761</td>\n",
       "      <td>0.826935</td>\n",
       "      <td>0.866709</td>\n",
       "      <td>0.824215</td>\n",
       "      <td>0.845754</td>\n",
       "    </tr>\n",
       "    <tr>\n",
       "      <th>2020-03-16</th>\n",
       "      <td>0.759247</td>\n",
       "      <td>0.951998</td>\n",
       "      <td>0.840975</td>\n",
       "      <td>0.900193</td>\n",
       "      <td>0.779367</td>\n",
       "      <td>0.820724</td>\n",
       "      <td>0.803929</td>\n",
       "      <td>0.811642</td>\n",
       "    </tr>\n",
       "    <tr>\n",
       "      <th>2020-03-17</th>\n",
       "      <td>0.796043</td>\n",
       "      <td>1.011312</td>\n",
       "      <td>0.884666</td>\n",
       "      <td>0.954164</td>\n",
       "      <td>0.801518</td>\n",
       "      <td>0.839204</td>\n",
       "      <td>0.804378</td>\n",
       "      <td>0.818686</td>\n",
       "    </tr>\n",
       "    <tr>\n",
       "      <th>2020-03-18</th>\n",
       "      <td>0.713659</td>\n",
       "      <td>0.963752</td>\n",
       "      <td>0.828911</td>\n",
       "      <td>0.904709</td>\n",
       "      <td>0.753943</td>\n",
       "      <td>0.792509</td>\n",
       "      <td>0.790903</td>\n",
       "      <td>0.784483</td>\n",
       "    </tr>\n",
       "    <tr>\n",
       "      <th>2020-03-19</th>\n",
       "      <td>0.728988</td>\n",
       "      <td>0.985914</td>\n",
       "      <td>0.836754</td>\n",
       "      <td>0.908968</td>\n",
       "      <td>0.774154</td>\n",
       "      <td>0.808348</td>\n",
       "      <td>0.782689</td>\n",
       "      <td>0.763977</td>\n",
       "    </tr>\n",
       "  </tbody>\n",
       "</table>\n",
       "<p>248 rows × 8 columns</p>\n",
       "</div>"
      ],
      "text/plain": [
       "             Bovespa    Nasdaq  Down_Jones_ind     SP500     CAC40       DAX  \\\n",
       "Date                                                                           \n",
       "2019-03-22       NaN       NaN             NaN       NaN       NaN       NaN   \n",
       "2019-03-25  0.999220  0.999329        1.000569  0.999161  0.998239  0.998458   \n",
       "2019-03-26  1.016767  1.006392        1.006094  1.006338  1.007108  1.004867   \n",
       "2019-03-27  0.980458  1.000093        1.004834  1.001664  1.005943  1.004828   \n",
       "2019-03-28  1.006975  1.003467        1.008436  1.005259  1.005051  1.005631   \n",
       "...              ...       ...             ...       ...       ...       ...   \n",
       "2020-03-13  0.882037  1.085779        0.965823  1.022761  0.826935  0.866709   \n",
       "2020-03-16  0.759247  0.951998        0.840975  0.900193  0.779367  0.820724   \n",
       "2020-03-17  0.796043  1.011312        0.884666  0.954164  0.801518  0.839204   \n",
       "2020-03-18  0.713659  0.963752        0.828911  0.904709  0.753943  0.792509   \n",
       "2020-03-19  0.728988  0.985914        0.836754  0.908968  0.774154  0.808348   \n",
       "\n",
       "            Nikkey225  Hang_Seng  \n",
       "Date                              \n",
       "2019-03-22        NaN        NaN  \n",
       "2019-03-25   0.969935   0.979734  \n",
       "2019-03-26   0.990801   0.981230  \n",
       "2019-03-27   0.988505   0.986772  \n",
       "2019-03-28   0.972554   0.988385  \n",
       "...               ...        ...  \n",
       "2020-03-13   0.824215   0.845754  \n",
       "2020-03-16   0.803929   0.811642  \n",
       "2020-03-17   0.804378   0.818686  \n",
       "2020-03-18   0.790903   0.784483  \n",
       "2020-03-19   0.782689   0.763977  \n",
       "\n",
       "[248 rows x 8 columns]"
      ]
     },
     "execution_count": 27,
     "metadata": {},
     "output_type": "execute_result"
    }
   ],
   "source": [
    "#cummulative products\n",
    "(data+1).cumprod()"
   ]
  },
  {
   "cell_type": "markdown",
   "metadata": {},
   "source": [
    "### Correlation"
   ]
  },
  {
   "cell_type": "code",
   "execution_count": 28,
   "metadata": {},
   "outputs": [
    {
     "data": {
      "text/html": [
       "<div>\n",
       "<style scoped>\n",
       "    .dataframe tbody tr th:only-of-type {\n",
       "        vertical-align: middle;\n",
       "    }\n",
       "\n",
       "    .dataframe tbody tr th {\n",
       "        vertical-align: top;\n",
       "    }\n",
       "\n",
       "    .dataframe thead th {\n",
       "        text-align: right;\n",
       "    }\n",
       "</style>\n",
       "<table border=\"1\" class=\"dataframe\">\n",
       "  <thead>\n",
       "    <tr style=\"text-align: right;\">\n",
       "      <th></th>\n",
       "      <th>Bovespa</th>\n",
       "      <th>Nasdaq</th>\n",
       "      <th>Down_Jones_ind</th>\n",
       "      <th>SP500</th>\n",
       "      <th>CAC40</th>\n",
       "      <th>DAX</th>\n",
       "      <th>Nikkey225</th>\n",
       "      <th>Hang_Seng</th>\n",
       "    </tr>\n",
       "  </thead>\n",
       "  <tbody>\n",
       "    <tr>\n",
       "      <th>Bovespa</th>\n",
       "      <td>1.000000</td>\n",
       "      <td>0.832614</td>\n",
       "      <td>0.858454</td>\n",
       "      <td>0.858728</td>\n",
       "      <td>0.687412</td>\n",
       "      <td>0.647210</td>\n",
       "      <td>0.222579</td>\n",
       "      <td>0.357432</td>\n",
       "    </tr>\n",
       "    <tr>\n",
       "      <th>Nasdaq</th>\n",
       "      <td>0.832614</td>\n",
       "      <td>1.000000</td>\n",
       "      <td>0.964498</td>\n",
       "      <td>0.983912</td>\n",
       "      <td>0.741482</td>\n",
       "      <td>0.704266</td>\n",
       "      <td>0.258186</td>\n",
       "      <td>0.385679</td>\n",
       "    </tr>\n",
       "    <tr>\n",
       "      <th>Down_Jones_ind</th>\n",
       "      <td>0.858454</td>\n",
       "      <td>0.964498</td>\n",
       "      <td>1.000000</td>\n",
       "      <td>0.989746</td>\n",
       "      <td>0.742281</td>\n",
       "      <td>0.702877</td>\n",
       "      <td>0.274837</td>\n",
       "      <td>0.382789</td>\n",
       "    </tr>\n",
       "    <tr>\n",
       "      <th>SP500</th>\n",
       "      <td>0.858728</td>\n",
       "      <td>0.983912</td>\n",
       "      <td>0.989746</td>\n",
       "      <td>1.000000</td>\n",
       "      <td>0.745759</td>\n",
       "      <td>0.706677</td>\n",
       "      <td>0.264157</td>\n",
       "      <td>0.384347</td>\n",
       "    </tr>\n",
       "    <tr>\n",
       "      <th>CAC40</th>\n",
       "      <td>0.687412</td>\n",
       "      <td>0.741482</td>\n",
       "      <td>0.742281</td>\n",
       "      <td>0.745759</td>\n",
       "      <td>1.000000</td>\n",
       "      <td>0.966219</td>\n",
       "      <td>0.458475</td>\n",
       "      <td>0.482877</td>\n",
       "    </tr>\n",
       "    <tr>\n",
       "      <th>DAX</th>\n",
       "      <td>0.647210</td>\n",
       "      <td>0.704266</td>\n",
       "      <td>0.702877</td>\n",
       "      <td>0.706677</td>\n",
       "      <td>0.966219</td>\n",
       "      <td>1.000000</td>\n",
       "      <td>0.492916</td>\n",
       "      <td>0.507905</td>\n",
       "    </tr>\n",
       "    <tr>\n",
       "      <th>Nikkey225</th>\n",
       "      <td>0.222579</td>\n",
       "      <td>0.258186</td>\n",
       "      <td>0.274837</td>\n",
       "      <td>0.264157</td>\n",
       "      <td>0.458475</td>\n",
       "      <td>0.492916</td>\n",
       "      <td>1.000000</td>\n",
       "      <td>0.615773</td>\n",
       "    </tr>\n",
       "    <tr>\n",
       "      <th>Hang_Seng</th>\n",
       "      <td>0.357432</td>\n",
       "      <td>0.385679</td>\n",
       "      <td>0.382789</td>\n",
       "      <td>0.384347</td>\n",
       "      <td>0.482877</td>\n",
       "      <td>0.507905</td>\n",
       "      <td>0.615773</td>\n",
       "      <td>1.000000</td>\n",
       "    </tr>\n",
       "  </tbody>\n",
       "</table>\n",
       "</div>"
      ],
      "text/plain": [
       "                 Bovespa    Nasdaq  Down_Jones_ind     SP500     CAC40  \\\n",
       "Bovespa         1.000000  0.832614        0.858454  0.858728  0.687412   \n",
       "Nasdaq          0.832614  1.000000        0.964498  0.983912  0.741482   \n",
       "Down_Jones_ind  0.858454  0.964498        1.000000  0.989746  0.742281   \n",
       "SP500           0.858728  0.983912        0.989746  1.000000  0.745759   \n",
       "CAC40           0.687412  0.741482        0.742281  0.745759  1.000000   \n",
       "DAX             0.647210  0.704266        0.702877  0.706677  0.966219   \n",
       "Nikkey225       0.222579  0.258186        0.274837  0.264157  0.458475   \n",
       "Hang_Seng       0.357432  0.385679        0.382789  0.384347  0.482877   \n",
       "\n",
       "                     DAX  Nikkey225  Hang_Seng  \n",
       "Bovespa         0.647210   0.222579   0.357432  \n",
       "Nasdaq          0.704266   0.258186   0.385679  \n",
       "Down_Jones_ind  0.702877   0.274837   0.382789  \n",
       "SP500           0.706677   0.264157   0.384347  \n",
       "CAC40           0.966219   0.458475   0.482877  \n",
       "DAX             1.000000   0.492916   0.507905  \n",
       "Nikkey225       0.492916   1.000000   0.615773  \n",
       "Hang_Seng       0.507905   0.615773   1.000000  "
      ]
     },
     "execution_count": 28,
     "metadata": {},
     "output_type": "execute_result"
    }
   ],
   "source": [
    "data.corr()"
   ]
  },
  {
   "cell_type": "markdown",
   "metadata": {},
   "source": [
    "### Basic plots"
   ]
  },
  {
   "cell_type": "code",
   "execution_count": 29,
   "metadata": {},
   "outputs": [
    {
     "data": {
      "text/plain": [
       "<matplotlib.axes._subplots.AxesSubplot at 0x172ca8fa240>"
      ]
     },
     "execution_count": 29,
     "metadata": {},
     "output_type": "execute_result"
    },
    {
     "data": {
      "image/png": "[encoded data removed]",
      "text/plain": [
       "<Figure size 864x576 with 1 Axes>"
      ]
     },
     "metadata": {
      "needs_background": "light"
     },
     "output_type": "display_data"
    }
   ],
   "source": [
    "#daily variation\n",
    "data.plot(figsize = (12,8))"
   ]
  },
  {
   "cell_type": "code",
   "execution_count": 30,
   "metadata": {},
   "outputs": [
    {
     "data": {
      "text/plain": [
       "<matplotlib.axes._subplots.AxesSubplot at 0x172ccc13a20>"
      ]
     },
     "execution_count": 30,
     "metadata": {},
     "output_type": "execute_result"
    },
    {
     "data": {
      "image/png": "[encoded data removed]",
      "text/plain": [
       "<Figure size 864x576 with 1 Axes>"
      ]
     },
     "metadata": {
      "needs_background": "light"
     },
     "output_type": "display_data"
    }
   ],
   "source": [
    "(data+1).cumprod().plot(figsize = (12,8))"
   ]
  }
 ],
 "metadata": {
  "kernelspec": {
   "display_name": "Python 3",
   "language": "python",
   "name": "python3"
  },
  "language_info": {
   "codemirror_mode": {
    "name": "ipython",
    "version": 3
   },
   "file_extension": ".py",
   "mimetype": "text/x-python",
   "name": "python",
   "nbconvert_exporter": "python",
   "pygments_lexer": "ipython3",
   "version": "3.7.3"
  }
 },
 "nbformat": 4,
 "nbformat_minor": 4
}
