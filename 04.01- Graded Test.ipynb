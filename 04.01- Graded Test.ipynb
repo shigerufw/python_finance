{
 "cells": [
  {
   "cell_type": "code",
   "execution_count": 1,
   "metadata": {},
   "outputs": [],
   "source": [
    "import numpy as np\n",
    "import pandas as pd"
   ]
  },
  {
   "cell_type": "markdown",
   "metadata": {},
   "source": [
    "## importing functions "
   ]
  },
  {
   "cell_type": "code",
   "execution_count": 2,
   "metadata": {},
   "outputs": [],
   "source": [
    "def get_ind_file(filetype, weighting=\"vw\", n_inds=30):\n",
    "    \"\"\"\n",
    "    Load and format the Ken French Industry Portfolios files\n",
    "    Variant is a tuple of (weighting, size) where:\n",
    "        weighting is one of \"ew\", \"vw\"\n",
    "        number of inds is 30 or 49\n",
    "    \"\"\"    \n",
    "    if filetype == \"returns\":\n",
    "        name = f\"{weighting}_rets\" \n",
    "        divisor = 100\n",
    "    elif filetype == \"nfirms\":\n",
    "        name = \"nfirms\"\n",
    "        divisor = 1\n",
    "    elif filetype == \"size\":\n",
    "        name = \"size\"\n",
    "        divisor = 1\n",
    "    else:\n",
    "        raise ValueError(f\"filetype must be one of: returns, nfirms, size\")\n",
    "    \n",
    "    ind = pd.read_csv(f\"data/ind{n_inds}_m_{name}.csv\", header=0, index_col=0, na_values=-99.99)/divisor\n",
    "    ind.index = pd.to_datetime(ind.index, format=\"%Y%m\").to_period('M')\n",
    "    ind.columns = ind.columns.str.strip()\n",
    "    return ind\n",
    "\n",
    "\n",
    "def get_ind_returns(weighting=\"vw\", n_inds=30):\n",
    "    \"\"\"\n",
    "    Load and format the Ken French Industry Portfolios Monthly Returns\n",
    "    \"\"\"\n",
    "    return get_ind_file(\"returns\", weighting=weighting, n_inds=n_inds)\n",
    "\n",
    "def get_ind_nfirms(n_inds=30):\n",
    "    \"\"\"\n",
    "    Load and format the Ken French 30 Industry Portfolios Average number of Firms\n",
    "    \"\"\"\n",
    "    return get_ind_file(\"nfirms\", n_inds=n_inds)\n",
    "\n",
    "def get_ind_size(n_inds=30):\n",
    "    \"\"\"\n",
    "    Load and format the Ken French 30 Industry Portfolios Average size (market cap)\n",
    "    \"\"\"\n",
    "    return get_ind_file(\"size\", n_inds=n_inds)\n",
    "\n",
    "\n",
    "def get_ind_market_caps(n_inds=30, weights=False):\n",
    "    \"\"\"\n",
    "    Load the industry portfolio data and derive the market caps\n",
    "    \"\"\"\n",
    "    ind_nfirms = get_ind_nfirms(n_inds=n_inds)\n",
    "    ind_size = get_ind_size(n_inds=n_inds)\n",
    "    ind_mktcap = ind_nfirms * ind_size\n",
    "    if weights:\n",
    "        total_mktcap = ind_mktcap.sum(axis=1)\n",
    "        ind_capweight = ind_mktcap.divide(total_mktcap, axis=\"rows\")\n",
    "        return ind_capweight\n",
    "    #else\n",
    "    return ind_mktcap\n",
    "\n",
    "def get_total_market_index_returns(n_inds=30):\n",
    "    \"\"\"\n",
    "    Load the 30 industry portfolio data and derive the returns of a capweighted total market index\n",
    "    \"\"\"\n",
    "    ind_capweight = get_ind_market_caps(n_inds=n_inds)\n",
    "    ind_return = get_ind_returns(weighting=\"vw\", n_inds=n_inds)\n",
    "    total_market_return = (ind_capweight * ind_return).sum(axis=\"columns\")\n",
    "    return total_market_return"
   ]
  },
  {
   "cell_type": "markdown",
   "metadata": {},
   "source": [
    "## helper functions "
   ]
  },
  {
   "cell_type": "code",
   "execution_count": 3,
   "metadata": {},
   "outputs": [],
   "source": [
    "def weight_cw(r, cap_weights, **kwargs):\n",
    "    \"\"\"\n",
    "    Returns the weights of the CW portfolio based on the time series of capweights\n",
    "    \"\"\"\n",
    "    w = cap_weights.loc[r.index[0]]\n",
    "    return w/w.sum()\n",
    "\n",
    "def weight_ew(r, cap_weights=None, max_cw_mult=None, microcap_threshold=None, **kwargs):\n",
    "    \"\"\"\n",
    "    Returns the weights of the EW portfolio based on the asset returns \"r\" as a DataFrame\n",
    "    If supplied a set of capweights and a capweight tether, it is applied and reweighted \n",
    "    \"\"\"\n",
    "    n = len(r.columns)\n",
    "    ew = pd.Series(1/n, index=r.columns)\n",
    "    if cap_weights is not None:\n",
    "        cw = cap_weights.loc[r.index[0]] # starting cap weight\n",
    "        ## exclude microcaps\n",
    "        if microcap_threshold is not None and microcap_threshold > 0:\n",
    "            microcap = cw < microcap_threshold\n",
    "            ew[microcap] = 0\n",
    "            ew = ew/ew.sum()\n",
    "        #limit weight to a multiple of capweight\n",
    "        if max_cw_mult is not None and max_cw_mult > 0:\n",
    "            ew = np.minimum(ew, cw*max_cw_mult)\n",
    "            ew = ew/ew.sum() #reweight\n",
    "    return ew\n",
    "\n",
    "def weight_cw(r, cap_weights, **kwargs):\n",
    "    \"\"\"\n",
    "    Returns the weights of the CW portfolio based on the time series of capweights\n",
    "    \"\"\"\n",
    "    w = cap_weights.loc[r.index[0]]\n",
    "    return w/w.sum()\n",
    "\n",
    "\n",
    "def backtest_ws(r, estimation_window=60, weighting=weight_ew, verbose=False, **kwargs):\n",
    "    \"\"\"\n",
    "    Backtests a given weighting scheme, given some parameters:\n",
    "    r : asset returns to use to build the portfolio\n",
    "    estimation_window: the window to use to estimate parameters\n",
    "    weighting: the weighting scheme to use, must be a function that takes \"r\", and a variable number of keyword-value arguments\n",
    "    \"\"\"\n",
    "    n_periods = r.shape[0]\n",
    "    # return windows\n",
    "    windows = [(start, start+estimation_window) for start in range(n_periods-estimation_window)]\n",
    "    weights = [weighting(r.iloc[win[0]:win[1]], **kwargs) for win in windows]\n",
    "    # convert List of weights to DataFrame\n",
    "    weights = pd.DataFrame(weights, index=r.iloc[estimation_window:].index, columns=r.columns)\n",
    "    returns = (weights * r).sum(axis=\"columns\",  min_count=1) #mincount is to generate NAs if all inputs are NAs\n",
    "    return returns"
   ]
  },
  {
   "cell_type": "markdown",
   "metadata": {},
   "source": [
    "## summary functions"
   ]
  },
  {
   "cell_type": "code",
   "execution_count": 4,
   "metadata": {},
   "outputs": [],
   "source": [
    "import scipy.stats\n",
    "from scipy.stats import norm\n",
    "def skewness(r):\n",
    "    \"\"\"\n",
    "    Alternative to scipy.stats.skew()\n",
    "    Computes the skewness of the supplied Series or DataFrame\n",
    "    Returns a float or a Series\n",
    "    \"\"\"\n",
    "    demeaned_r = r - r.mean()\n",
    "    # use the population standard deviation, so set dof=0\n",
    "    sigma_r = r.std(ddof=0)\n",
    "    exp = (demeaned_r**3).mean()\n",
    "    return exp/sigma_r**3\n",
    "\n",
    "\n",
    "def kurtosis(r):\n",
    "    \"\"\"\n",
    "    Alternative to scipy.stats.kurtosis()\n",
    "    Computes the kurtosis of the supplied Series or DataFrame\n",
    "    Returns a float or a Series\n",
    "    \"\"\"\n",
    "    demeaned_r = r - r.mean()\n",
    "    # use the population standard deviation, so set dof=0\n",
    "    sigma_r = r.std(ddof=0)\n",
    "    exp = (demeaned_r**4).mean()\n",
    "    return exp/sigma_r**4\n",
    "\n",
    "def drawdown(return_series: pd.Series):\n",
    "    \"\"\"Takes a time series of asset returns.\n",
    "       returns a DataFrame with columns for\n",
    "       the wealth index, \n",
    "       the previous peaks, and \n",
    "       the percentage drawdown\n",
    "    \"\"\"\n",
    "    wealth_index = 1000*(1+return_series).cumprod()\n",
    "    previous_peaks = wealth_index.cummax()\n",
    "    drawdowns = (wealth_index - previous_peaks)/previous_peaks\n",
    "    return pd.DataFrame({\"Wealth\": wealth_index, \n",
    "                         \"Previous Peak\": previous_peaks, \n",
    "                         \"Drawdown\": drawdowns})\n",
    "\n",
    "\n",
    "\n",
    "def compound(r):\n",
    "    \"\"\"\n",
    "    returns the result of compounding the set of returns in r\n",
    "    \"\"\"\n",
    "    return np.expm1(np.log1p(r).sum())\n",
    "\n",
    "                         \n",
    "def annualize_rets(r, periods_per_year):\n",
    "    \"\"\"\n",
    "    Annualizes a set of returns\n",
    "    We should infer the periods per year\n",
    "    but that is currently left as an exercise\n",
    "    to the reader :-)\n",
    "    \"\"\"\n",
    "    compounded_growth = (1+r).prod()\n",
    "    n_periods = r.shape[0]\n",
    "    return compounded_growth**(periods_per_year/n_periods)-1\n",
    "\n",
    "\n",
    "def annualize_vol(r, periods_per_year):\n",
    "    \"\"\"\n",
    "    Annualizes the vol of a set of returns\n",
    "    We should infer the periods per year\n",
    "    but that is currently left as an exercise\n",
    "    to the reader :-)\n",
    "    \"\"\"\n",
    "    return r.std()*(periods_per_year**0.5)\n",
    "\n",
    "\n",
    "def sharpe_ratio(r, riskfree_rate, periods_per_year):\n",
    "    \"\"\"\n",
    "    Computes the annualized sharpe ratio of a set of returns\n",
    "    \"\"\"\n",
    "    # convert the annual riskfree rate to per period\n",
    "    rf_per_period = (1+riskfree_rate)**(1/periods_per_year)-1\n",
    "    excess_ret = r - rf_per_period\n",
    "    ann_ex_ret = annualize_rets(excess_ret, periods_per_year)\n",
    "    ann_vol = annualize_vol(r, periods_per_year)\n",
    "    return ann_ex_ret/ann_vol\n",
    "\n",
    "\n",
    "\n",
    "def is_normal(r, level=0.01):\n",
    "    \"\"\"\n",
    "    Applies the Jarque-Bera test to determine if a Series is normal or not\n",
    "    Test is applied at the 1% level by default\n",
    "    Returns True if the hypothesis of normality is accepted, False otherwise\n",
    "    \"\"\"\n",
    "    if isinstance(r, pd.DataFrame):\n",
    "        return r.aggregate(is_normal)\n",
    "    else:\n",
    "        statistic, p_value = scipy.stats.jarque_bera(r)\n",
    "        return p_value > level\n",
    "\n",
    "\n",
    "def semideviation(r):\n",
    "    \"\"\"\n",
    "    Returns the semideviation aka negative semideviation of r\n",
    "    r must be a Series or a DataFrame, else raises a TypeError\n",
    "    \"\"\"\n",
    "    if isinstance(r, pd.Series):\n",
    "        is_negative = r < 0\n",
    "        return r[is_negative].std(ddof=0)\n",
    "    elif isinstance(r, pd.DataFrame):\n",
    "        return r.aggregate(semideviation)\n",
    "    else:\n",
    "        raise TypeError(\"Expected r to be a Series or DataFrame\")\n",
    "\n",
    "\n",
    "def var_historic(r, level=5):\n",
    "    \"\"\"\n",
    "    Returns the historic Value at Risk at a specified level\n",
    "    i.e. returns the number such that \"level\" percent of the returns\n",
    "    fall below that number, and the (100-level) percent are above\n",
    "    \"\"\"\n",
    "    if isinstance(r, pd.DataFrame):\n",
    "        return r.aggregate(var_historic, level=level)\n",
    "    elif isinstance(r, pd.Series):\n",
    "        return -np.percentile(r, level)\n",
    "    else:\n",
    "        raise TypeError(\"Expected r to be a Series or DataFrame\")\n",
    "\n",
    "\n",
    "def cvar_historic(r, level=5):\n",
    "    \"\"\"\n",
    "    Computes the Conditional VaR of Series or DataFrame\n",
    "    \"\"\"\n",
    "    if isinstance(r, pd.Series):\n",
    "        is_beyond = r <= -var_historic(r, level=level)\n",
    "        return -r[is_beyond].mean()\n",
    "    elif isinstance(r, pd.DataFrame):\n",
    "        return r.aggregate(cvar_historic, level=level)\n",
    "    else:\n",
    "        raise TypeError(\"Expected r to be a Series or DataFrame\")\n",
    "\n",
    "\n",
    "\n",
    "def var_gaussian(r, level=5, modified=False):\n",
    "    \"\"\"\n",
    "    Returns the Parametric Gauusian VaR of a Series or DataFrame\n",
    "    If \"modified\" is True, then the modified VaR is returned,\n",
    "    using the Cornish-Fisher modification\n",
    "    \"\"\"\n",
    "    # compute the Z score assuming it was Gaussian\n",
    "    z = norm.ppf(level/100)\n",
    "    if modified:\n",
    "        # modify the Z score based on observed skewness and kurtosis\n",
    "        s = skewness(r)\n",
    "        k = kurtosis(r)\n",
    "        z = (z +\n",
    "                (z**2 - 1)*s/6 +\n",
    "                (z**3 -3*z)*(k-3)/24 -\n",
    "                (2*z**3 - 5*z)*(s**2)/36\n",
    "            )\n",
    "    return -(r.mean() + z*r.std(ddof=0))\n",
    "    \n",
    "def summary_stats(r, riskfree_rate=0.03):\n",
    "    \"\"\"\n",
    "    Return a DataFrame that contains aggregated summary stats for the returns in the columns of r\n",
    "    \"\"\"\n",
    "    ann_r = r.aggregate(annualize_rets, periods_per_year=12)\n",
    "    ann_vol = r.aggregate(annualize_vol, periods_per_year=12)\n",
    "    ann_sr = r.aggregate(sharpe_ratio, riskfree_rate=riskfree_rate, periods_per_year=12)\n",
    "    dd = r.aggregate(lambda r: drawdown(r).Drawdown.min())\n",
    "    skew = r.aggregate(skewness)\n",
    "    kurt = r.aggregate(kurtosis)\n",
    "    cf_var5 = r.aggregate(var_gaussian, modified=True)\n",
    "    hist_cvar5 = r.aggregate(cvar_historic)\n",
    "    return pd.DataFrame({\n",
    "        \"Annualized Return\": ann_r,\n",
    "        \"Annualized Vol\": ann_vol,\n",
    "        \"Skewness\": skew,\n",
    "        \"Kurtosis\": kurt,\n",
    "        \"Cornish-Fisher VaR (5%)\": cf_var5,\n",
    "        \"Historic CVaR (5%)\": hist_cvar5,\n",
    "        \"Sharpe Ratio\": ann_sr,\n",
    "        \"Max Drawdown\": dd\n",
    "    })"
   ]
  },
  {
   "cell_type": "markdown",
   "metadata": {},
   "source": [
    "## GmV functions "
   ]
  },
  {
   "cell_type": "code",
   "execution_count": 5,
   "metadata": {},
   "outputs": [],
   "source": [
    "def msr(riskfree_rate, er, cov):\n",
    "    \"\"\"\n",
    "    Returns the weights of the portfolio that gives you the maximum sharpe ratio\n",
    "    given the riskfree rate and expected returns and a covariance matrix\n",
    "    \"\"\"\n",
    "    n = er.shape[0]\n",
    "    init_guess = np.repeat(1/n, n)\n",
    "    bounds = ((0.0, 1.0),) * n # an N-tuple of 2-tuples!\n",
    "    # construct the constraints\n",
    "    weights_sum_to_1 = {'type': 'eq',\n",
    "                        'fun': lambda weights: np.sum(weights) - 1\n",
    "    }\n",
    "    def neg_sharpe(weights, riskfree_rate, er, cov):\n",
    "        \"\"\"\n",
    "        Returns the negative of the sharpe ratio\n",
    "        of the given portfolio\n",
    "        \"\"\"\n",
    "        r = portfolio_return(weights, er)\n",
    "        vol = portfolio_vol(weights, cov)\n",
    "        return -(r - riskfree_rate)/vol\n",
    "    \n",
    "    weights = minimize(neg_sharpe, init_guess,\n",
    "                       args=(riskfree_rate, er, cov), method='SLSQP',\n",
    "                       options={'disp': False},\n",
    "                       constraints=(weights_sum_to_1,),\n",
    "                       bounds=bounds)\n",
    "    return weights.x\n",
    "\n",
    "def gmv(cov):\n",
    "    \"\"\"\n",
    "    Returns the weights of the Global Minimum Volatility portfolio\n",
    "    given a covariance matrix\n",
    "    \"\"\"\n",
    "    n = cov.shape[0]\n",
    "    return msr(0, np.repeat(1, n), cov)\n",
    "\n",
    "def sample_cov(r, **kwargs):\n",
    "    \"\"\"\n",
    "    Returns the sample covariance of the supplied returns\n",
    "    \"\"\"\n",
    "    return r.cov()\n",
    "\n",
    "def weight_gmv(r, cov_estimator=sample_cov, **kwargs):\n",
    "    \"\"\"\n",
    "    Produces the weights of the GMV portfolio given a covariance matrix of the returns \n",
    "    \"\"\"\n",
    "    est_cov = cov_estimator(r, **kwargs)\n",
    "    return gmv(est_cov)\n",
    "\n",
    "def portfolio_return(weights, returns):\n",
    "    \"\"\"\n",
    "    Computes the return on a portfolio from constituent returns and weights\n",
    "    weights are a numpy array or Nx1 matrix and returns are a numpy array or Nx1 matrix\n",
    "    \"\"\"\n",
    "    return weights.T @ returns\n",
    "\n",
    "def portfolio_vol(weights, covmat):\n",
    "    \"\"\"\n",
    "    Computes the vol of a portfolio from a covariance matrix and constituent weights\n",
    "    weights are a numpy array or N x 1 maxtrix and covmat is an N x N matrix\n",
    "    \"\"\"\n",
    "    vol = (weights.T @ covmat @ weights)**0.5\n",
    "    return vol "
   ]
  },
  {
   "cell_type": "markdown",
   "metadata": {},
   "source": [
    "### Importing Data"
   ]
  },
  {
   "cell_type": "code",
   "execution_count": 14,
   "metadata": {},
   "outputs": [],
   "source": [
    "#inds=['Beer', 'Hlth', 'Fin','Rtail','Whlsl']\n",
    "ind_rets = get_ind_returns(weighting=\"vw\", n_inds=49)[\"2014\":]\n",
    "ind_mcap = get_ind_market_caps(49, weights=True)[\"2014\":]\n",
    "\n",
    "rets = ind_rets[\"2014\":]\n",
    "cov = rets.cov()"
   ]
  },
  {
   "cell_type": "markdown",
   "metadata": {},
   "source": [
    "# 1- Risk Contribution for each "
   ]
  },
  {
   "cell_type": "code",
   "execution_count": 16,
   "metadata": {},
   "outputs": [],
   "source": [
    "def risk_contribution(w,cov):\n",
    "    \"\"\"\n",
    "    Compute the contributions to risk of the constituents of a portfolio, given a set of portfolio weights and a covariance matrix\n",
    "    \"\"\"\n",
    "    total_portfolio_var = portfolio_vol(w,cov)**2\n",
    "    # Marginal contribution of each constituent\n",
    "    marginal_contrib = cov@w\n",
    "    risk_contrib = np.multiply(marginal_contrib,w.T)/total_portfolio_var\n",
    "    return risk_contrib"
   ]
  },
  {
   "cell_type": "code",
   "execution_count": 39,
   "metadata": {},
   "outputs": [
    {
     "data": {
      "text/plain": [
       "<matplotlib.axes._subplots.AxesSubplot at 0x1fc74d2fdc0>"
      ]
     },
     "execution_count": 39,
     "metadata": {},
     "output_type": "execute_result"
    },
    {
     "data": {
      "image/png": "[encoded data removed]",
      "text/plain": [
       "<Figure size 432x288 with 1 Axes>"
      ]
     },
     "metadata": {
      "needs_background": "light"
     },
     "output_type": "display_data"
    }
   ],
   "source": [
    "risk_contribution(weight_cw(rets,ind_mcap), cov).plot.bar(title='Risk Contribution of an CW portfolio')"
   ]
  },
  {
   "cell_type": "code",
   "execution_count": 31,
   "metadata": {},
   "outputs": [],
   "source": [
    "risk_contribution_cw = risk_contribution(weight_cw(rets,ind_mcap), cov)"
   ]
  },
  {
   "cell_type": "markdown",
   "metadata": {},
   "source": [
    "##### 1- Enter your answer as text, exactly as they are named in the Data file (i.e. 'Hlth', 'Fin', 'Whlsl', 'Rtail', or 'Food')"
   ]
  },
  {
   "cell_type": "markdown",
   "metadata": {},
   "source": [
    "##### 2- Use the same data as the previous question. What was the highest risk contribution from any one industry in the cap-weighted portfolio?\n",
    "\n",
    "Enter the answer as a percentage (e.g. for 5.67% enter 5.67)"
   ]
  },
  {
   "cell_type": "code",
   "execution_count": 32,
   "metadata": {},
   "outputs": [
    {
     "data": {
      "text/plain": [
       "Banks    0.10406\n",
       "dtype: float64"
      ]
     },
     "execution_count": 32,
     "metadata": {},
     "output_type": "execute_result"
    }
   ],
   "source": [
    "risk_contribution_cw[risk_contribution_cw == risk_contribution_cw.max()]"
   ]
  },
  {
   "cell_type": "code",
   "execution_count": 36,
   "metadata": {},
   "outputs": [],
   "source": [
    "risk_contribution_ew = risk_contribution(weight_ew(rets), cov)"
   ]
  },
  {
   "cell_type": "code",
   "execution_count": 37,
   "metadata": {},
   "outputs": [
    {
     "data": {
      "image/png": "[encoded data removed]",
      "text/plain": [
       "<Figure size 432x288 with 1 Axes>"
      ]
     },
     "metadata": {
      "needs_background": "light"
     },
     "output_type": "display_data"
    }
   ],
   "source": [
    "risk_contribution_ew.plot.bar(title=\"Risk Contributions of an EW portfolio\");"
   ]
  },
  {
   "cell_type": "markdown",
   "metadata": {},
   "source": [
    "#### 3- Which Industry had the highest risk contribution in the equal-weighted portfolio?\n",
    "\n",
    "Enter your answer as text, exactly as they are named in the Data file (i.e. 'Hlth', 'Fin', 'Whlsl', 'Rtail', or 'Food')"
   ]
  },
  {
   "cell_type": "markdown",
   "metadata": {},
   "source": [
    "#### 4- What was the highest risk contribution from any one industry in the equal-weighted portfolio?\n",
    "\n",
    "Enter the answer as a percentage (e.g. for 5.67% enter 5.67)"
   ]
  },
  {
   "cell_type": "code",
   "execution_count": 41,
   "metadata": {},
   "outputs": [
    {
     "data": {
      "text/plain": [
       "Steel    0.030938\n",
       "dtype: float64"
      ]
     },
     "execution_count": 41,
     "metadata": {},
     "output_type": "execute_result"
    }
   ],
   "source": [
    "risk_contribution_ew[risk_contribution_ew == risk_contribution_ew.max()]"
   ]
  },
  {
   "cell_type": "markdown",
   "metadata": {},
   "source": [
    "#### functions to equaly weight the risk inside the portifolio"
   ]
  },
  {
   "cell_type": "code",
   "execution_count": 43,
   "metadata": {},
   "outputs": [],
   "source": [
    "from scipy.optimize import minimize\n",
    "\n",
    "def target_risk_contributions(target_risk, cov):\n",
    "    \"\"\"\n",
    "    Returns the weights of the portfolio that gives you the weights such\n",
    "    that the contributions to portfolio risk are as close as possible to\n",
    "    the target_risk, given the covariance matrix\n",
    "    \"\"\"\n",
    "    n = cov.shape[0]\n",
    "    init_guess = np.repeat(1/n, n)\n",
    "    bounds = ((0.0, 1.0),) * n # an N-tuple of 2-tuples!\n",
    "    # construct the constraints\n",
    "    weights_sum_to_1 = {'type': 'eq',\n",
    "                        'fun': lambda weights: np.sum(weights) - 1\n",
    "    }\n",
    "    def msd_risk(weights, target_risk, cov):\n",
    "        \"\"\"\n",
    "        Returns the Mean Squared Difference in risk contributions\n",
    "        between weights and target_risk\n",
    "        \"\"\"\n",
    "        w_contribs = risk_contribution(weights, cov)\n",
    "        return ((w_contribs-target_risk)**2).sum()\n",
    "    \n",
    "    weights = minimize(msd_risk, init_guess,\n",
    "                       args=(target_risk, cov), method='SLSQP',\n",
    "                       options={'disp': False},\n",
    "                       constraints=(weights_sum_to_1,),\n",
    "                       bounds=bounds)\n",
    "    return weights.x\n",
    "\n",
    "def equal_risk_contributions(cov):\n",
    "    \"\"\"\n",
    "    Returns the weights of the portfolio that equalizes the contributions\n",
    "    of the constituents based on the given covariance matrix\n",
    "    \"\"\"\n",
    "    n = cov.shape[0]\n",
    "    return target_risk_contributions(target_risk=np.repeat(1/n,n), cov=cov)\n"
   ]
  },
  {
   "cell_type": "code",
   "execution_count": 45,
   "metadata": {},
   "outputs": [
    {
     "data": {
      "image/png": "[encoded data removed]",
      "text/plain": [
       "<Figure size 432x288 with 1 Axes>"
      ]
     },
     "metadata": {
      "needs_background": "light"
     },
     "output_type": "display_data"
    }
   ],
   "source": [
    "#weights that gives equal risk contributions\n",
    "risk_contribution(equal_risk_contributions(cov), cov).plot.bar(title=\"Risk Contributions of an ERC portfolio\");"
   ]
  },
  {
   "cell_type": "code",
   "execution_count": 54,
   "metadata": {},
   "outputs": [],
   "source": [
    "def weight_erc(r, cov_estimator=sample_cov, **kwargs):\n",
    "    \"\"\"\n",
    "    Produces the weights of the ERC portfolio given a covariance matrix of the returns \n",
    "    \"\"\"\n",
    "    est_cov = cov_estimator(r, **kwargs)\n",
    "    return equal_risk_contributions(est_cov)"
   ]
  },
  {
   "cell_type": "code",
   "execution_count": 56,
   "metadata": {},
   "outputs": [
    {
     "data": {
      "text/plain": [
       "array([0.02247852, 0.03025094, 0.02823332, 0.03202826, 0.03260638,\n",
       "       0.01627068, 0.01766336, 0.01542512, 0.03318412, 0.02912923,\n",
       "       0.02224645, 0.02090693, 0.01973038, 0.01491777, 0.01774663,\n",
       "       0.01443959, 0.0137905 , 0.01592362, 0.01280911, 0.01518338,\n",
       "       0.01429176, 0.01474679, 0.01672597, 0.01798352, 0.01304069,\n",
       "       0.02380923, 0.02728219, 0.01395074, 0.01475935, 0.01676373,\n",
       "       0.05215573, 0.02313301, 0.01992407, 0.0184558 , 0.01865389,\n",
       "       0.02196338, 0.01887783, 0.01775139, 0.01776126, 0.01524685,\n",
       "       0.01676276, 0.01842073, 0.01956692, 0.02790719, 0.01844531,\n",
       "       0.02097034, 0.01442949, 0.01783279, 0.02342304])"
      ]
     },
     "execution_count": 56,
     "metadata": {},
     "output_type": "execute_result"
    }
   ],
   "source": [
    "weight_erc(rets)"
   ]
  },
  {
   "cell_type": "code",
   "execution_count": 59,
   "metadata": {},
   "outputs": [
    {
     "data": {
      "text/plain": [
       "Index(['Agric', 'Food', 'Soda', 'Beer', 'Smoke', 'Toys', 'Fun', 'Books',\n",
       "       'Hshld', 'Clths', 'Hlth', 'MedEq', 'Drugs', 'Chems', 'Rubbr', 'Txtls',\n",
       "       'BldMt', 'Cnstr', 'Steel', 'FabPr', 'Mach', 'ElcEq', 'Autos', 'Aero',\n",
       "       'Ships', 'Guns', 'Gold', 'Mines', 'Coal', 'Oil', 'Util', 'Telcm',\n",
       "       'PerSv', 'BusSv', 'Hardw', 'Softw', 'Chips', 'LabEq', 'Paper', 'Boxes',\n",
       "       'Trans', 'Whlsl', 'Rtail', 'Meals', 'Banks', 'Insur', 'RlEst', 'Fin',\n",
       "       'Other'],\n",
       "      dtype='object')"
      ]
     },
     "execution_count": 59,
     "metadata": {},
     "output_type": "execute_result"
    }
   ],
   "source": [
    "rets.columns"
   ]
  },
  {
   "cell_type": "code",
   "execution_count": 61,
   "metadata": {},
   "outputs": [],
   "source": [
    "erc_w = pd.DataFrame({'weights':weight_erc(rets), 'Columns' : rets.columns})"
   ]
  },
  {
   "cell_type": "code",
   "execution_count": 69,
   "metadata": {
    "scrolled": true
   },
   "outputs": [
    {
     "data": {
      "text/html": [
       "<div>\n",
       "<style scoped>\n",
       "    .dataframe tbody tr th:only-of-type {\n",
       "        vertical-align: middle;\n",
       "    }\n",
       "\n",
       "    .dataframe tbody tr th {\n",
       "        vertical-align: top;\n",
       "    }\n",
       "\n",
       "    .dataframe thead th {\n",
       "        text-align: right;\n",
       "    }\n",
       "</style>\n",
       "<table border=\"1\" class=\"dataframe\">\n",
       "  <thead>\n",
       "    <tr style=\"text-align: right;\">\n",
       "      <th></th>\n",
       "      <th>weights</th>\n",
       "      <th>Columns</th>\n",
       "    </tr>\n",
       "  </thead>\n",
       "  <tbody>\n",
       "    <tr>\n",
       "      <th>18</th>\n",
       "      <td>0.012809</td>\n",
       "      <td>Steel</td>\n",
       "    </tr>\n",
       "    <tr>\n",
       "      <th>24</th>\n",
       "      <td>0.013041</td>\n",
       "      <td>Ships</td>\n",
       "    </tr>\n",
       "    <tr>\n",
       "      <th>16</th>\n",
       "      <td>0.013790</td>\n",
       "      <td>BldMt</td>\n",
       "    </tr>\n",
       "    <tr>\n",
       "      <th>27</th>\n",
       "      <td>0.013951</td>\n",
       "      <td>Mines</td>\n",
       "    </tr>\n",
       "    <tr>\n",
       "      <th>20</th>\n",
       "      <td>0.014292</td>\n",
       "      <td>Mach</td>\n",
       "    </tr>\n",
       "    <tr>\n",
       "      <th>46</th>\n",
       "      <td>0.014429</td>\n",
       "      <td>RlEst</td>\n",
       "    </tr>\n",
       "    <tr>\n",
       "      <th>15</th>\n",
       "      <td>0.014440</td>\n",
       "      <td>Txtls</td>\n",
       "    </tr>\n",
       "    <tr>\n",
       "      <th>21</th>\n",
       "      <td>0.014747</td>\n",
       "      <td>ElcEq</td>\n",
       "    </tr>\n",
       "    <tr>\n",
       "      <th>28</th>\n",
       "      <td>0.014759</td>\n",
       "      <td>Coal</td>\n",
       "    </tr>\n",
       "    <tr>\n",
       "      <th>13</th>\n",
       "      <td>0.014918</td>\n",
       "      <td>Chems</td>\n",
       "    </tr>\n",
       "    <tr>\n",
       "      <th>19</th>\n",
       "      <td>0.015183</td>\n",
       "      <td>FabPr</td>\n",
       "    </tr>\n",
       "    <tr>\n",
       "      <th>39</th>\n",
       "      <td>0.015247</td>\n",
       "      <td>Boxes</td>\n",
       "    </tr>\n",
       "    <tr>\n",
       "      <th>7</th>\n",
       "      <td>0.015425</td>\n",
       "      <td>Books</td>\n",
       "    </tr>\n",
       "    <tr>\n",
       "      <th>17</th>\n",
       "      <td>0.015924</td>\n",
       "      <td>Cnstr</td>\n",
       "    </tr>\n",
       "    <tr>\n",
       "      <th>5</th>\n",
       "      <td>0.016271</td>\n",
       "      <td>Toys</td>\n",
       "    </tr>\n",
       "    <tr>\n",
       "      <th>22</th>\n",
       "      <td>0.016726</td>\n",
       "      <td>Autos</td>\n",
       "    </tr>\n",
       "    <tr>\n",
       "      <th>40</th>\n",
       "      <td>0.016763</td>\n",
       "      <td>Trans</td>\n",
       "    </tr>\n",
       "    <tr>\n",
       "      <th>29</th>\n",
       "      <td>0.016764</td>\n",
       "      <td>Oil</td>\n",
       "    </tr>\n",
       "    <tr>\n",
       "      <th>6</th>\n",
       "      <td>0.017663</td>\n",
       "      <td>Fun</td>\n",
       "    </tr>\n",
       "    <tr>\n",
       "      <th>14</th>\n",
       "      <td>0.017747</td>\n",
       "      <td>Rubbr</td>\n",
       "    </tr>\n",
       "    <tr>\n",
       "      <th>37</th>\n",
       "      <td>0.017751</td>\n",
       "      <td>LabEq</td>\n",
       "    </tr>\n",
       "    <tr>\n",
       "      <th>38</th>\n",
       "      <td>0.017761</td>\n",
       "      <td>Paper</td>\n",
       "    </tr>\n",
       "    <tr>\n",
       "      <th>47</th>\n",
       "      <td>0.017833</td>\n",
       "      <td>Fin</td>\n",
       "    </tr>\n",
       "    <tr>\n",
       "      <th>23</th>\n",
       "      <td>0.017984</td>\n",
       "      <td>Aero</td>\n",
       "    </tr>\n",
       "    <tr>\n",
       "      <th>41</th>\n",
       "      <td>0.018421</td>\n",
       "      <td>Whlsl</td>\n",
       "    </tr>\n",
       "    <tr>\n",
       "      <th>44</th>\n",
       "      <td>0.018445</td>\n",
       "      <td>Banks</td>\n",
       "    </tr>\n",
       "    <tr>\n",
       "      <th>33</th>\n",
       "      <td>0.018456</td>\n",
       "      <td>BusSv</td>\n",
       "    </tr>\n",
       "    <tr>\n",
       "      <th>34</th>\n",
       "      <td>0.018654</td>\n",
       "      <td>Hardw</td>\n",
       "    </tr>\n",
       "    <tr>\n",
       "      <th>36</th>\n",
       "      <td>0.018878</td>\n",
       "      <td>Chips</td>\n",
       "    </tr>\n",
       "    <tr>\n",
       "      <th>42</th>\n",
       "      <td>0.019567</td>\n",
       "      <td>Rtail</td>\n",
       "    </tr>\n",
       "    <tr>\n",
       "      <th>12</th>\n",
       "      <td>0.019730</td>\n",
       "      <td>Drugs</td>\n",
       "    </tr>\n",
       "    <tr>\n",
       "      <th>32</th>\n",
       "      <td>0.019924</td>\n",
       "      <td>PerSv</td>\n",
       "    </tr>\n",
       "    <tr>\n",
       "      <th>11</th>\n",
       "      <td>0.020907</td>\n",
       "      <td>MedEq</td>\n",
       "    </tr>\n",
       "    <tr>\n",
       "      <th>45</th>\n",
       "      <td>0.020970</td>\n",
       "      <td>Insur</td>\n",
       "    </tr>\n",
       "    <tr>\n",
       "      <th>35</th>\n",
       "      <td>0.021963</td>\n",
       "      <td>Softw</td>\n",
       "    </tr>\n",
       "    <tr>\n",
       "      <th>10</th>\n",
       "      <td>0.022246</td>\n",
       "      <td>Hlth</td>\n",
       "    </tr>\n",
       "    <tr>\n",
       "      <th>0</th>\n",
       "      <td>0.022479</td>\n",
       "      <td>Agric</td>\n",
       "    </tr>\n",
       "    <tr>\n",
       "      <th>31</th>\n",
       "      <td>0.023133</td>\n",
       "      <td>Telcm</td>\n",
       "    </tr>\n",
       "    <tr>\n",
       "      <th>48</th>\n",
       "      <td>0.023423</td>\n",
       "      <td>Other</td>\n",
       "    </tr>\n",
       "    <tr>\n",
       "      <th>25</th>\n",
       "      <td>0.023809</td>\n",
       "      <td>Guns</td>\n",
       "    </tr>\n",
       "    <tr>\n",
       "      <th>26</th>\n",
       "      <td>0.027282</td>\n",
       "      <td>Gold</td>\n",
       "    </tr>\n",
       "    <tr>\n",
       "      <th>43</th>\n",
       "      <td>0.027907</td>\n",
       "      <td>Meals</td>\n",
       "    </tr>\n",
       "    <tr>\n",
       "      <th>2</th>\n",
       "      <td>0.028233</td>\n",
       "      <td>Soda</td>\n",
       "    </tr>\n",
       "    <tr>\n",
       "      <th>9</th>\n",
       "      <td>0.029129</td>\n",
       "      <td>Clths</td>\n",
       "    </tr>\n",
       "    <tr>\n",
       "      <th>1</th>\n",
       "      <td>0.030251</td>\n",
       "      <td>Food</td>\n",
       "    </tr>\n",
       "    <tr>\n",
       "      <th>3</th>\n",
       "      <td>0.032028</td>\n",
       "      <td>Beer</td>\n",
       "    </tr>\n",
       "    <tr>\n",
       "      <th>4</th>\n",
       "      <td>0.032606</td>\n",
       "      <td>Smoke</td>\n",
       "    </tr>\n",
       "    <tr>\n",
       "      <th>8</th>\n",
       "      <td>0.033184</td>\n",
       "      <td>Hshld</td>\n",
       "    </tr>\n",
       "    <tr>\n",
       "      <th>30</th>\n",
       "      <td>0.052156</td>\n",
       "      <td>Util</td>\n",
       "    </tr>\n",
       "  </tbody>\n",
       "</table>\n",
       "</div>"
      ],
      "text/plain": [
       "     weights Columns\n",
       "18  0.012809   Steel\n",
       "24  0.013041   Ships\n",
       "16  0.013790   BldMt\n",
       "27  0.013951   Mines\n",
       "20  0.014292    Mach\n",
       "46  0.014429   RlEst\n",
       "15  0.014440   Txtls\n",
       "21  0.014747   ElcEq\n",
       "28  0.014759    Coal\n",
       "13  0.014918   Chems\n",
       "19  0.015183   FabPr\n",
       "39  0.015247   Boxes\n",
       "7   0.015425   Books\n",
       "17  0.015924   Cnstr\n",
       "5   0.016271    Toys\n",
       "22  0.016726   Autos\n",
       "40  0.016763   Trans\n",
       "29  0.016764     Oil\n",
       "6   0.017663     Fun\n",
       "14  0.017747   Rubbr\n",
       "37  0.017751   LabEq\n",
       "38  0.017761   Paper\n",
       "47  0.017833     Fin\n",
       "23  0.017984    Aero\n",
       "41  0.018421   Whlsl\n",
       "44  0.018445   Banks\n",
       "33  0.018456   BusSv\n",
       "34  0.018654   Hardw\n",
       "36  0.018878   Chips\n",
       "42  0.019567   Rtail\n",
       "12  0.019730   Drugs\n",
       "32  0.019924   PerSv\n",
       "11  0.020907   MedEq\n",
       "45  0.020970   Insur\n",
       "35  0.021963   Softw\n",
       "10  0.022246    Hlth\n",
       "0   0.022479   Agric\n",
       "31  0.023133   Telcm\n",
       "48  0.023423   Other\n",
       "25  0.023809    Guns\n",
       "26  0.027282    Gold\n",
       "43  0.027907   Meals\n",
       "2   0.028233    Soda\n",
       "9   0.029129   Clths\n",
       "1   0.030251    Food\n",
       "3   0.032028    Beer\n",
       "4   0.032606   Smoke\n",
       "8   0.033184   Hshld\n",
       "30  0.052156    Util"
      ]
     },
     "execution_count": 69,
     "metadata": {},
     "output_type": "execute_result"
    }
   ],
   "source": [
    "erc_w.sort_values('weights')"
   ]
  },
  {
   "cell_type": "markdown",
   "metadata": {},
   "source": [
    "#### 5- Using the Sample Covariance over the 5 year period, and the initial capweights over that period, compute the weights of the ERC portfolio. What sector portfolio is assigned the highest weight in the ERC portfolio?\n",
    "\n",
    "Enter your answer as text, exactly as they are named in the Data file (i.e. 'Hlth', 'Fin', 'Whlsl', 'Rtail', or 'Food')"
   ]
  },
  {
   "cell_type": "markdown",
   "metadata": {},
   "source": [
    "#### 6- Using the same data as the previous question (Sample Covariance over the 5 year period, and the initial capweights over that period) compute the weights of the ERC portfolio. What is the weight of the sector portfolio that is assigned the highest weight in the ERC portfolio?\n",
    "\n",
    "Enter the answer as a percentage (e.g. for 5.67% enter 5.67)"
   ]
  },
  {
   "cell_type": "code",
   "execution_count": 72,
   "metadata": {},
   "outputs": [
    {
     "data": {
      "text/html": [
       "<div>\n",
       "<style scoped>\n",
       "    .dataframe tbody tr th:only-of-type {\n",
       "        vertical-align: middle;\n",
       "    }\n",
       "\n",
       "    .dataframe tbody tr th {\n",
       "        vertical-align: top;\n",
       "    }\n",
       "\n",
       "    .dataframe thead th {\n",
       "        text-align: right;\n",
       "    }\n",
       "</style>\n",
       "<table border=\"1\" class=\"dataframe\">\n",
       "  <thead>\n",
       "    <tr style=\"text-align: right;\">\n",
       "      <th></th>\n",
       "      <th>weights</th>\n",
       "      <th>Columns</th>\n",
       "    </tr>\n",
       "  </thead>\n",
       "  <tbody>\n",
       "    <tr>\n",
       "      <th>30</th>\n",
       "      <td>0.052156</td>\n",
       "      <td>Util</td>\n",
       "    </tr>\n",
       "  </tbody>\n",
       "</table>\n",
       "</div>"
      ],
      "text/plain": [
       "     weights Columns\n",
       "30  0.052156    Util"
      ]
     },
     "execution_count": 72,
     "metadata": {},
     "output_type": "execute_result"
    }
   ],
   "source": [
    "erc_w[erc_w['weights'] == erc_w['weights'].max()]"
   ]
  },
  {
   "cell_type": "markdown",
   "metadata": {},
   "source": [
    "#### 7 - Use the same data as the previous question (Sample Covariance over the 5 year period, and the initial capweights over that period) and the weights of ERC portfolio. What sector portfolio is assigned the lowest weight in the ERC portfolio?\n",
    "\n",
    "Enter your answer as text, exactly as they are named in the Data file (i.e. 'Hlth', 'Fin', 'Whlsl', 'Rtail', or 'Food')"
   ]
  },
  {
   "cell_type": "markdown",
   "metadata": {},
   "source": [
    "#### 8- Use the same data as the previous question (Sample Covariance over the 5 year period, and the initial capweights over that period) and the weights of ERC portfolio.\n",
    "#### What is the weight of the sector portfolio that is assigned the lowest weight in the ERC portfolio?\n",
    "\n",
    "Enter the answer as a percentage (e.g. for 5.67% enter 5.67)"
   ]
  },
  {
   "cell_type": "code",
   "execution_count": 74,
   "metadata": {},
   "outputs": [
    {
     "data": {
      "text/html": [
       "<div>\n",
       "<style scoped>\n",
       "    .dataframe tbody tr th:only-of-type {\n",
       "        vertical-align: middle;\n",
       "    }\n",
       "\n",
       "    .dataframe tbody tr th {\n",
       "        vertical-align: top;\n",
       "    }\n",
       "\n",
       "    .dataframe thead th {\n",
       "        text-align: right;\n",
       "    }\n",
       "</style>\n",
       "<table border=\"1\" class=\"dataframe\">\n",
       "  <thead>\n",
       "    <tr style=\"text-align: right;\">\n",
       "      <th></th>\n",
       "      <th>weights</th>\n",
       "      <th>Columns</th>\n",
       "    </tr>\n",
       "  </thead>\n",
       "  <tbody>\n",
       "    <tr>\n",
       "      <th>18</th>\n",
       "      <td>0.012809</td>\n",
       "      <td>Steel</td>\n",
       "    </tr>\n",
       "  </tbody>\n",
       "</table>\n",
       "</div>"
      ],
      "text/plain": [
       "     weights Columns\n",
       "18  0.012809   Steel"
      ]
     },
     "execution_count": 74,
     "metadata": {},
     "output_type": "execute_result"
    }
   ],
   "source": [
    "erc_w[erc_w['weights'] == erc_w['weights'].min()]"
   ]
  },
  {
   "cell_type": "markdown",
   "metadata": {},
   "source": [
    "#### 9- Use the same data as you used in the previous question (Sample Covariance over the 5 year period and the initial capweights over that period).\n",
    " #### In the cap-weighted portfolio what is the difference in risk contributions between the largest contributor to portfolio risk and the smallest contributor to portfolio risk?\n",
    "\n",
    "Enter the answer as a percentage (e.g. for 5.67% enter 5.67)"
   ]
  },
  {
   "cell_type": "code",
   "execution_count": 85,
   "metadata": {},
   "outputs": [
    {
     "data": {
      "text/plain": [
       "0.1039644943981684"
      ]
     },
     "execution_count": 85,
     "metadata": {},
     "output_type": "execute_result"
    }
   ],
   "source": [
    "max_risk_cw =risk_contribution_cw[risk_contribution_cw == risk_contribution_cw.max()][0]\n",
    "min_risk_cw =risk_contribution_cw[risk_contribution_cw == risk_contribution_cw.min()][0]\n",
    "\n",
    "max_risk_cw-min_risk_cw"
   ]
  },
  {
   "cell_type": "code",
   "execution_count": 86,
   "metadata": {},
   "outputs": [
    {
     "data": {
      "text/plain": [
       "Gold    0.000096\n",
       "dtype: float64"
      ]
     },
     "execution_count": 86,
     "metadata": {},
     "output_type": "execute_result"
    }
   ],
   "source": [
    "risk_contribution_cw[risk_contribution_cw == risk_contribution_cw.min()]"
   ]
  },
  {
   "cell_type": "markdown",
   "metadata": {},
   "source": [
    "#### 10 -Use the same data as you used in the previous question (Sample Covariance over the 5 year period and the initial capweights over that period).\n",
    "#### In the equal-weighted portfolio what is the difference in risk contributions between the largest contributor to portfolio risk and the smallest contributor to portfolio risk?\n",
    "\n",
    "Enter the answer as a percentage (e.g. for 5.67% enter 5.67)"
   ]
  },
  {
   "cell_type": "code",
   "execution_count": 89,
   "metadata": {},
   "outputs": [
    {
     "data": {
      "text/plain": [
       "0.02502175762491148"
      ]
     },
     "execution_count": 89,
     "metadata": {},
     "output_type": "execute_result"
    }
   ],
   "source": [
    "max_risk_ew =risk_contribution_ew[risk_contribution_ew == risk_contribution_ew.max()][0]\n",
    "min_risk_ew =risk_contribution_ew[risk_contribution_ew == risk_contribution_ew.min()][0]\n",
    "max_risk_ew-min_risk_ew"
   ]
  }
 ],
 "metadata": {
  "kernelspec": {
   "display_name": "Python 3",
   "language": "python",
   "name": "python3"
  },
  "language_info": {
   "codemirror_mode": {
    "name": "ipython",
    "version": 3
   },
   "file_extension": ".py",
   "mimetype": "text/x-python",
   "name": "python",
   "nbconvert_exporter": "python",
   "pygments_lexer": "ipython3",
   "version": "3.8.3"
  }
 },
 "nbformat": 4,
 "nbformat_minor": 4
}
