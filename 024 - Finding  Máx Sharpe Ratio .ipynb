{
 "cells": [
  {
   "cell_type": "markdown",
   "metadata": {},
   "source": [
    "# This notebook we're going to see:\n",
    "<ul>\n",
    "    <li>finding the MSR</li>\n",
    "    <li>Using a Minimizer to set weights</li>\n",
    "</ul>  "
   ]
  },
  {
   "cell_type": "code",
   "execution_count": 1,
   "metadata": {},
   "outputs": [
    {
     "name": "stderr",
     "output_type": "stream",
     "text": [
      "c:\\users\\home_041\\miniconda3\\lib\\site-packages\\pandas_datareader\\compat\\__init__.py:7: FutureWarning: pandas.util.testing is deprecated. Use the functions in the public API at pandas.testing instead.\n",
      "  from pandas.util.testing import assert_frame_equal\n"
     ]
    }
   ],
   "source": [
    "import numpy as np\n",
    "import pandas as pd\n",
    "import matplotlib.pyplot as plt\n",
    "import seaborn as sns\n",
    "import pandas_datareader as web\n",
    "import datetime\n",
    "import risk_kit as erk\n",
    "import seaborn as sns\n",
    "%matplotlib inline"
   ]
  },
  {
   "cell_type": "code",
   "execution_count": 2,
   "metadata": {},
   "outputs": [],
   "source": [
    "# auto reload imported modules\n",
    "%load_ext autoreload\n",
    "%autoreload 2"
   ]
  },
  {
   "cell_type": "code",
   "execution_count": 3,
   "metadata": {},
   "outputs": [],
   "source": [
    "ind = erk.get_ind_returns()\n",
    "er = erk.annualize_rets(ind['1996':'2000'], 12)\n",
    "cov = ind['1996':'2000'].cov()"
   ]
  },
  {
   "cell_type": "markdown",
   "metadata": {},
   "source": [
    "# Importing data"
   ]
  },
  {
   "cell_type": "markdown",
   "metadata": {},
   "source": [
    "### creating msr function"
   ]
  },
  {
   "cell_type": "code",
   "execution_count": 4,
   "metadata": {},
   "outputs": [],
   "source": [
    "def msr(riskfree_rate,er, cov):\n",
    "    \"\"\"\n",
    "    RiskFree rate + ER + COV -> weight vector\n",
    "    \"\"\"\n",
    "    \n",
    "    n = er.shape[0]\n",
    "    \n",
    "    #init guess\n",
    "    init_guess = np.repeat(1/n, n)\n",
    "    \n",
    "    #bounds minimum of 0 maximun of 1, for n assets\n",
    "    bounds = ((0.0,1),)*n\n",
    "    #constrain to stop the function when met the espected return\n",
    "   \n",
    "    #constrain to set the sum of weights to 1\n",
    "    weights_sum_to_1= {\n",
    "        'type': 'eq',\n",
    "        'fun': lambda weights: np.sum(weights)-1        \n",
    "    }\n",
    "    \n",
    "    def neg_sharpe_ratio(weights, riskfree_rate, er, cov):\n",
    "        \"\"\"\n",
    "        returns the negative of the sharpe ratio, given weights\n",
    "        \"\"\"\n",
    "        r = erk.portfolio_return(weights, er)\n",
    "        vol = erk.portfolio_vol(weights, cov)\n",
    "        return -(r-riskfree_rate)/vol\n",
    "    \n",
    "    results = minimize(neg_sharpe_ratio, init_guess ,\n",
    "                       args=(riskfree_rate, er,cov,),\n",
    "                       method='SLSQP',\n",
    "                       options={'disp': False},\n",
    "                       constraints =(weights_sum_to_1),\n",
    "                       bounds = bounds\n",
    "                      )\n",
    "    return results.x\n"
   ]
  },
  {
   "cell_type": "code",
   "execution_count": 5,
   "metadata": {},
   "outputs": [],
   "source": [
    "from scipy.optimize import minimize "
   ]
  },
  {
   "cell_type": "code",
   "execution_count": 6,
   "metadata": {
    "scrolled": false
   },
   "outputs": [
    {
     "data": {
      "text/plain": [
       "[<matplotlib.lines.Line2D at 0x139584aa828>]"
      ]
     },
     "execution_count": 6,
     "metadata": {},
     "output_type": "execute_result"
    },
    {
     "data": {
      "image/png": "[encoded data removed]",
      "text/plain": [
       "<Figure size 864x576 with 1 Axes>"
      ]
     },
     "metadata": {
      "needs_background": "light"
     },
     "output_type": "display_data"
    }
   ],
   "source": [
    "ax = erk.plot_ef(20, er, cov)\n",
    "ax.set_xlim(left = 0)\n",
    "rf = 0.1 #riskfree as 10%\n",
    "w_msr = msr(rf, er, cov)\n",
    "r_msr = erk.portfolio_return(w_msr, er)\n",
    "vol_msr = erk.portfolio_vol(w_msr, cov)\n",
    "# add CML (capital market line)\n",
    "\n",
    "cml_x = [0, vol_msr]\n",
    "cml_y = [rf, r_msr]\n",
    "\n",
    "ax.plot(cml_x, cml_y, color = 'green', marker = 'o', linestyle = 'dashed')"
   ]
  },
  {
   "cell_type": "markdown",
   "metadata": {},
   "source": [
    "### What means the MSR and The Capital market line ?\n"
   ]
  },
  {
   "cell_type": "markdown",
   "metadata": {},
   "source": [
    "#### given the free risk of the period we calculate the best sharpe ratio portifolio"
   ]
  },
  {
   "cell_type": "markdown",
   "metadata": {},
   "source": [
    "### Analyzing the Portfolio"
   ]
  },
  {
   "cell_type": "code",
   "execution_count": 7,
   "metadata": {},
   "outputs": [
    {
     "data": {
      "text/plain": [
       "Index(['Food', 'Beer', 'Smoke', 'Games', 'Books', 'Hshld', 'Clths', 'Hlth',\n",
       "       'Chems', 'Txtls', 'Cnstr', 'Steel', 'FabPr', 'ElcEq', 'Autos', 'Carry',\n",
       "       'Mines', 'Coal', 'Oil', 'Util', 'Telcm', 'Servs', 'BusEq', 'Paper',\n",
       "       'Trans', 'Whlsl', 'Rtail', 'Meals', 'Fin', 'Other'],\n",
       "      dtype='object')"
      ]
     },
     "execution_count": 7,
     "metadata": {},
     "output_type": "execute_result"
    }
   ],
   "source": [
    "ind.columns"
   ]
  },
  {
   "cell_type": "code",
   "execution_count": 36,
   "metadata": {},
   "outputs": [
    {
     "data": {
      "text/plain": [
       "array([0.00000000e+00, 0.00000000e+00, 0.00000000e+00, 6.48932500e-15,\n",
       "       0.00000000e+00, 0.00000000e+00, 5.45480127e-15, 4.55961462e-01,\n",
       "       8.10280096e-16, 2.15496315e-15, 2.67314408e-15, 1.97311109e-15,\n",
       "       1.52936446e-15, 2.33810838e-01, 2.14489135e-15, 0.00000000e+00,\n",
       "       9.01619313e-15, 1.38704167e-01, 0.00000000e+00, 8.94091715e-02,\n",
       "       0.00000000e+00, 2.13532897e-15, 1.55177068e-02, 6.11494428e-16,\n",
       "       2.46290006e-15, 0.00000000e+00, 6.65966553e-02, 1.35272882e-15,\n",
       "       0.00000000e+00, 1.93143388e-15])"
      ]
     },
     "execution_count": 36,
     "metadata": {},
     "output_type": "execute_result"
    }
   ],
   "source": [
    "w_msr"
   ]
  },
  {
   "cell_type": "markdown",
   "metadata": {},
   "source": [
    "#### 1 - Create a list of lists"
   ]
  },
  {
   "cell_type": "code",
   "execution_count": 37,
   "metadata": {
    "scrolled": true
   },
   "outputs": [
    {
     "name": "stdout",
     "output_type": "stream",
     "text": [
      "0.0\n",
      "0.0\n",
      "0.0\n",
      "6.489325001664381e-15\n",
      "0.0\n",
      "0.0\n",
      "5.454801270135319e-15\n",
      "0.4559614617911977\n",
      "8.102800964197282e-16\n",
      "2.154963145098785e-15\n",
      "2.6731440825032812e-15\n",
      "1.973111090644948e-15\n",
      "1.5293644612845693e-15\n",
      "0.23381083793034532\n",
      "2.1448913450231765e-15\n",
      "0.0\n",
      "9.016193131153212e-15\n",
      "0.13870416671524358\n",
      "0.0\n",
      "0.08940917147024423\n",
      "0.0\n",
      "2.1353289674543483e-15\n",
      "0.015517706798418497\n",
      "6.114944278336846e-16\n",
      "2.4629000578223284e-15\n",
      "0.0\n",
      "0.06659665529454163\n",
      "1.352728818322731e-15\n",
      "0.0\n",
      "1.9314338789030984e-15\n"
     ]
    }
   ],
   "source": [
    "w_msr_l = []\n",
    "for i in w_msr:\n",
    "    print(i)\n",
    "    w_msr_l.append([i,])"
   ]
  },
  {
   "cell_type": "markdown",
   "metadata": {},
   "source": [
    "#### 2 - zip it into a dictionary"
   ]
  },
  {
   "cell_type": "code",
   "execution_count": 38,
   "metadata": {},
   "outputs": [],
   "source": [
    "dict_data= dict(zip(ind.columns, w_msr_l))\n"
   ]
  },
  {
   "cell_type": "markdown",
   "metadata": {},
   "source": [
    "#### 3- create a dataframe"
   ]
  },
  {
   "cell_type": "code",
   "execution_count": 52,
   "metadata": {},
   "outputs": [
    {
     "data": {
      "text/html": [
       "<div>\n",
       "<style scoped>\n",
       "    .dataframe tbody tr th:only-of-type {\n",
       "        vertical-align: middle;\n",
       "    }\n",
       "\n",
       "    .dataframe tbody tr th {\n",
       "        vertical-align: top;\n",
       "    }\n",
       "\n",
       "    .dataframe thead th {\n",
       "        text-align: right;\n",
       "    }\n",
       "</style>\n",
       "<table border=\"1\" class=\"dataframe\">\n",
       "  <thead>\n",
       "    <tr style=\"text-align: right;\">\n",
       "      <th></th>\n",
       "      <th>Food</th>\n",
       "      <th>Beer</th>\n",
       "      <th>Smoke</th>\n",
       "      <th>Games</th>\n",
       "      <th>Books</th>\n",
       "      <th>Hshld</th>\n",
       "      <th>Clths</th>\n",
       "      <th>Hlth</th>\n",
       "      <th>Chems</th>\n",
       "      <th>Txtls</th>\n",
       "      <th>...</th>\n",
       "      <th>Telcm</th>\n",
       "      <th>Servs</th>\n",
       "      <th>BusEq</th>\n",
       "      <th>Paper</th>\n",
       "      <th>Trans</th>\n",
       "      <th>Whlsl</th>\n",
       "      <th>Rtail</th>\n",
       "      <th>Meals</th>\n",
       "      <th>Fin</th>\n",
       "      <th>Other</th>\n",
       "    </tr>\n",
       "  </thead>\n",
       "  <tbody>\n",
       "    <tr>\n",
       "      <th>0</th>\n",
       "      <td>0.0</td>\n",
       "      <td>0.0</td>\n",
       "      <td>0.0</td>\n",
       "      <td>6.489325e-15</td>\n",
       "      <td>0.0</td>\n",
       "      <td>0.0</td>\n",
       "      <td>5.454801e-15</td>\n",
       "      <td>0.455961</td>\n",
       "      <td>8.102801e-16</td>\n",
       "      <td>2.154963e-15</td>\n",
       "      <td>...</td>\n",
       "      <td>0.0</td>\n",
       "      <td>2.135329e-15</td>\n",
       "      <td>0.015518</td>\n",
       "      <td>6.114944e-16</td>\n",
       "      <td>2.462900e-15</td>\n",
       "      <td>0.0</td>\n",
       "      <td>0.066597</td>\n",
       "      <td>1.352729e-15</td>\n",
       "      <td>0.0</td>\n",
       "      <td>1.931434e-15</td>\n",
       "    </tr>\n",
       "  </tbody>\n",
       "</table>\n",
       "<p>1 rows × 30 columns</p>\n",
       "</div>"
      ],
      "text/plain": [
       "   Food  Beer  Smoke         Games  Books  Hshld         Clths      Hlth  \\\n",
       "0   0.0   0.0    0.0  6.489325e-15    0.0    0.0  5.454801e-15  0.455961   \n",
       "\n",
       "          Chems         Txtls  ...  Telcm         Servs     BusEq  \\\n",
       "0  8.102801e-16  2.154963e-15  ...    0.0  2.135329e-15  0.015518   \n",
       "\n",
       "          Paper         Trans  Whlsl     Rtail         Meals  Fin  \\\n",
       "0  6.114944e-16  2.462900e-15    0.0  0.066597  1.352729e-15  0.0   \n",
       "\n",
       "          Other  \n",
       "0  1.931434e-15  \n",
       "\n",
       "[1 rows x 30 columns]"
      ]
     },
     "execution_count": 52,
     "metadata": {},
     "output_type": "execute_result"
    }
   ],
   "source": [
    "df_best_port = pd.DataFrame(dict_data)\n",
    "df_best_port"
   ]
  },
  {
   "cell_type": "markdown",
   "metadata": {},
   "source": [
    "#### 4 - selecting only the values higher than the threshold"
   ]
  },
  {
   "cell_type": "code",
   "execution_count": 162,
   "metadata": {},
   "outputs": [
    {
     "data": {
      "text/plain": [
       "Hlth     0.455961\n",
       "ElcEq    0.233811\n",
       "Coal     0.138704\n",
       "Util     0.089409\n",
       "BusEq    0.015518\n",
       "Rtail    0.066597\n",
       "Name: 0, dtype: float64"
      ]
     },
     "execution_count": 162,
     "metadata": {},
     "output_type": "execute_result"
    }
   ],
   "source": [
    "df_thresh =df_best_port[ df_best_port>= 0.005].dropna(axis = 1)\n",
    "#columns\n",
    "df_thresh.columns\n",
    "#values \n",
    "df_thresh.loc[0]"
   ]
  },
  {
   "cell_type": "markdown",
   "metadata": {},
   "source": [
    "#### 5 - multiplying returns by the weight vector "
   ]
  },
  {
   "cell_type": "code",
   "execution_count": 163,
   "metadata": {
    "scrolled": true
   },
   "outputs": [
    {
     "data": {
      "text/html": [
       "<div>\n",
       "<style scoped>\n",
       "    .dataframe tbody tr th:only-of-type {\n",
       "        vertical-align: middle;\n",
       "    }\n",
       "\n",
       "    .dataframe tbody tr th {\n",
       "        vertical-align: top;\n",
       "    }\n",
       "\n",
       "    .dataframe thead th {\n",
       "        text-align: right;\n",
       "    }\n",
       "</style>\n",
       "<table border=\"1\" class=\"dataframe\">\n",
       "  <thead>\n",
       "    <tr style=\"text-align: right;\">\n",
       "      <th></th>\n",
       "      <th>Hlth</th>\n",
       "      <th>ElcEq</th>\n",
       "      <th>Coal</th>\n",
       "      <th>Util</th>\n",
       "      <th>BusEq</th>\n",
       "      <th>Rtail</th>\n",
       "    </tr>\n",
       "  </thead>\n",
       "  <tbody>\n",
       "    <tr>\n",
       "      <th>1996-01</th>\n",
       "      <td>0.483091</td>\n",
       "      <td>0.246203</td>\n",
       "      <td>0.135458</td>\n",
       "      <td>0.091117</td>\n",
       "      <td>0.015851</td>\n",
       "      <td>0.065624</td>\n",
       "    </tr>\n",
       "    <tr>\n",
       "      <th>1996-02</th>\n",
       "      <td>0.477922</td>\n",
       "      <td>0.244332</td>\n",
       "      <td>0.137924</td>\n",
       "      <td>0.088766</td>\n",
       "      <td>0.016924</td>\n",
       "      <td>0.069253</td>\n",
       "    </tr>\n",
       "    <tr>\n",
       "      <th>1996-03</th>\n",
       "      <td>0.479069</td>\n",
       "      <td>0.251710</td>\n",
       "      <td>0.144172</td>\n",
       "      <td>0.088349</td>\n",
       "      <td>0.016146</td>\n",
       "      <td>0.074967</td>\n",
       "    </tr>\n",
       "    <tr>\n",
       "      <th>1996-04</th>\n",
       "      <td>0.476195</td>\n",
       "      <td>0.252667</td>\n",
       "      <td>0.145094</td>\n",
       "      <td>0.086061</td>\n",
       "      <td>0.017851</td>\n",
       "      <td>0.078235</td>\n",
       "    </tr>\n",
       "    <tr>\n",
       "      <th>1996-05</th>\n",
       "      <td>0.494909</td>\n",
       "      <td>0.268282</td>\n",
       "      <td>0.167918</td>\n",
       "      <td>0.087222</td>\n",
       "      <td>0.018597</td>\n",
       "      <td>0.082233</td>\n",
       "    </tr>\n",
       "    <tr>\n",
       "      <th>1996-06</th>\n",
       "      <td>0.493969</td>\n",
       "      <td>0.276733</td>\n",
       "      <td>0.183618</td>\n",
       "      <td>0.091767</td>\n",
       "      <td>0.017416</td>\n",
       "      <td>0.081345</td>\n",
       "    </tr>\n",
       "    <tr>\n",
       "      <th>1996-07</th>\n",
       "      <td>0.464034</td>\n",
       "      <td>0.263560</td>\n",
       "      <td>0.168231</td>\n",
       "      <td>0.086426</td>\n",
       "      <td>0.016110</td>\n",
       "      <td>0.075147</td>\n",
       "    </tr>\n",
       "    <tr>\n",
       "      <th>1996-08</th>\n",
       "      <td>0.483477</td>\n",
       "      <td>0.267909</td>\n",
       "      <td>0.170182</td>\n",
       "      <td>0.088924</td>\n",
       "      <td>0.016927</td>\n",
       "      <td>0.080324</td>\n",
       "    </tr>\n",
       "    <tr>\n",
       "      <th>1996-09</th>\n",
       "      <td>0.518965</td>\n",
       "      <td>0.294727</td>\n",
       "      <td>0.187762</td>\n",
       "      <td>0.089519</td>\n",
       "      <td>0.018726</td>\n",
       "      <td>0.082967</td>\n",
       "    </tr>\n",
       "    <tr>\n",
       "      <th>1996-10</th>\n",
       "      <td>0.515436</td>\n",
       "      <td>0.311556</td>\n",
       "      <td>0.189696</td>\n",
       "      <td>0.092751</td>\n",
       "      <td>0.018490</td>\n",
       "      <td>0.081341</td>\n",
       "    </tr>\n",
       "    <tr>\n",
       "      <th>1996-11</th>\n",
       "      <td>0.549764</td>\n",
       "      <td>0.333333</td>\n",
       "      <td>0.197436</td>\n",
       "      <td>0.095172</td>\n",
       "      <td>0.021073</td>\n",
       "      <td>0.083049</td>\n",
       "    </tr>\n",
       "    <tr>\n",
       "      <th>1996-12</th>\n",
       "      <td>0.535140</td>\n",
       "      <td>0.323367</td>\n",
       "      <td>0.219766</td>\n",
       "      <td>0.095305</td>\n",
       "      <td>0.020570</td>\n",
       "      <td>0.079469</td>\n",
       "    </tr>\n",
       "    <tr>\n",
       "      <th>1997-01</th>\n",
       "      <td>0.586246</td>\n",
       "      <td>0.337239</td>\n",
       "      <td>0.246709</td>\n",
       "      <td>0.096163</td>\n",
       "      <td>0.022682</td>\n",
       "      <td>0.079740</td>\n",
       "    </tr>\n",
       "    <tr>\n",
       "      <th>1997-02</th>\n",
       "      <td>0.591756</td>\n",
       "      <td>0.334035</td>\n",
       "      <td>0.238666</td>\n",
       "      <td>0.095615</td>\n",
       "      <td>0.020856</td>\n",
       "      <td>0.084229</td>\n",
       "    </tr>\n",
       "    <tr>\n",
       "      <th>1997-03</th>\n",
       "      <td>0.547967</td>\n",
       "      <td>0.324048</td>\n",
       "      <td>0.225778</td>\n",
       "      <td>0.092976</td>\n",
       "      <td>0.019767</td>\n",
       "      <td>0.083766</td>\n",
       "    </tr>\n",
       "    <tr>\n",
       "      <th>1997-04</th>\n",
       "      <td>0.581721</td>\n",
       "      <td>0.356323</td>\n",
       "      <td>0.240996</td>\n",
       "      <td>0.091683</td>\n",
       "      <td>0.020957</td>\n",
       "      <td>0.085206</td>\n",
       "    </tr>\n",
       "    <tr>\n",
       "      <th>1997-05</th>\n",
       "      <td>0.621918</td>\n",
       "      <td>0.388499</td>\n",
       "      <td>0.229790</td>\n",
       "      <td>0.095140</td>\n",
       "      <td>0.023095</td>\n",
       "      <td>0.090685</td>\n",
       "    </tr>\n",
       "    <tr>\n",
       "      <th>1997-06</th>\n",
       "      <td>0.677207</td>\n",
       "      <td>0.414994</td>\n",
       "      <td>0.236408</td>\n",
       "      <td>0.098051</td>\n",
       "      <td>0.023319</td>\n",
       "      <td>0.096661</td>\n",
       "    </tr>\n",
       "    <tr>\n",
       "      <th>1997-07</th>\n",
       "      <td>0.691157</td>\n",
       "      <td>0.450767</td>\n",
       "      <td>0.261940</td>\n",
       "      <td>0.100806</td>\n",
       "      <td>0.027715</td>\n",
       "      <td>0.105226</td>\n",
       "    </tr>\n",
       "    <tr>\n",
       "      <th>1997-08</th>\n",
       "      <td>0.648720</td>\n",
       "      <td>0.408124</td>\n",
       "      <td>0.248266</td>\n",
       "      <td>0.099637</td>\n",
       "      <td>0.027532</td>\n",
       "      <td>0.102164</td>\n",
       "    </tr>\n",
       "    <tr>\n",
       "      <th>1997-09</th>\n",
       "      <td>0.691601</td>\n",
       "      <td>0.442366</td>\n",
       "      <td>0.237392</td>\n",
       "      <td>0.104270</td>\n",
       "      <td>0.028619</td>\n",
       "      <td>0.107680</td>\n",
       "    </tr>\n",
       "    <tr>\n",
       "      <th>1997-10</th>\n",
       "      <td>0.693399</td>\n",
       "      <td>0.419186</td>\n",
       "      <td>0.196537</td>\n",
       "      <td>0.105250</td>\n",
       "      <td>0.025511</td>\n",
       "      <td>0.105882</td>\n",
       "    </tr>\n",
       "    <tr>\n",
       "      <th>1997-11</th>\n",
       "      <td>0.713230</td>\n",
       "      <td>0.469740</td>\n",
       "      <td>0.182720</td>\n",
       "      <td>0.112765</td>\n",
       "      <td>0.025680</td>\n",
       "      <td>0.112828</td>\n",
       "    </tr>\n",
       "    <tr>\n",
       "      <th>1997-12</th>\n",
       "      <td>0.738550</td>\n",
       "      <td>0.469317</td>\n",
       "      <td>0.189280</td>\n",
       "      <td>0.121753</td>\n",
       "      <td>0.024465</td>\n",
       "      <td>0.112049</td>\n",
       "    </tr>\n",
       "    <tr>\n",
       "      <th>1998-01</th>\n",
       "      <td>0.780868</td>\n",
       "      <td>0.491750</td>\n",
       "      <td>0.168970</td>\n",
       "      <td>0.116432</td>\n",
       "      <td>0.025705</td>\n",
       "      <td>0.113999</td>\n",
       "    </tr>\n",
       "    <tr>\n",
       "      <th>1998-02</th>\n",
       "      <td>0.823426</td>\n",
       "      <td>0.498979</td>\n",
       "      <td>0.183806</td>\n",
       "      <td>0.119517</td>\n",
       "      <td>0.028201</td>\n",
       "      <td>0.126562</td>\n",
       "    </tr>\n",
       "    <tr>\n",
       "      <th>1998-03</th>\n",
       "      <td>0.853151</td>\n",
       "      <td>0.547280</td>\n",
       "      <td>0.194209</td>\n",
       "      <td>0.127609</td>\n",
       "      <td>0.027598</td>\n",
       "      <td>0.135649</td>\n",
       "    </tr>\n",
       "    <tr>\n",
       "      <th>1998-04</th>\n",
       "      <td>0.869532</td>\n",
       "      <td>0.540986</td>\n",
       "      <td>0.196035</td>\n",
       "      <td>0.124406</td>\n",
       "      <td>0.029671</td>\n",
       "      <td>0.135445</td>\n",
       "    </tr>\n",
       "    <tr>\n",
       "      <th>1998-05</th>\n",
       "      <td>0.848055</td>\n",
       "      <td>0.527516</td>\n",
       "      <td>0.192761</td>\n",
       "      <td>0.123311</td>\n",
       "      <td>0.027588</td>\n",
       "      <td>0.140728</td>\n",
       "    </tr>\n",
       "    <tr>\n",
       "      <th>1998-06</th>\n",
       "      <td>0.900464</td>\n",
       "      <td>0.561963</td>\n",
       "      <td>0.188482</td>\n",
       "      <td>0.126813</td>\n",
       "      <td>0.028859</td>\n",
       "      <td>0.149960</td>\n",
       "    </tr>\n",
       "    <tr>\n",
       "      <th>1998-07</th>\n",
       "      <td>0.898483</td>\n",
       "      <td>0.550330</td>\n",
       "      <td>0.204541</td>\n",
       "      <td>0.120041</td>\n",
       "      <td>0.029916</td>\n",
       "      <td>0.146166</td>\n",
       "    </tr>\n",
       "    <tr>\n",
       "      <th>1998-08</th>\n",
       "      <td>0.788329</td>\n",
       "      <td>0.488638</td>\n",
       "      <td>0.154039</td>\n",
       "      <td>0.122742</td>\n",
       "      <td>0.024710</td>\n",
       "      <td>0.126828</td>\n",
       "    </tr>\n",
       "    <tr>\n",
       "      <th>1998-09</th>\n",
       "      <td>0.883008</td>\n",
       "      <td>0.488394</td>\n",
       "      <td>0.162050</td>\n",
       "      <td>0.132537</td>\n",
       "      <td>0.027977</td>\n",
       "      <td>0.126244</td>\n",
       "    </tr>\n",
       "    <tr>\n",
       "      <th>1998-10</th>\n",
       "      <td>0.917003</td>\n",
       "      <td>0.537722</td>\n",
       "      <td>0.166846</td>\n",
       "      <td>0.130204</td>\n",
       "      <td>0.030853</td>\n",
       "      <td>0.141785</td>\n",
       "    </tr>\n",
       "    <tr>\n",
       "      <th>1998-11</th>\n",
       "      <td>0.973674</td>\n",
       "      <td>0.559015</td>\n",
       "      <td>0.177041</td>\n",
       "      <td>0.131962</td>\n",
       "      <td>0.034019</td>\n",
       "      <td>0.157566</td>\n",
       "    </tr>\n",
       "    <tr>\n",
       "      <th>1998-12</th>\n",
       "      <td>1.022553</td>\n",
       "      <td>0.626097</td>\n",
       "      <td>0.217069</td>\n",
       "      <td>0.135697</td>\n",
       "      <td>0.038815</td>\n",
       "      <td>0.173827</td>\n",
       "    </tr>\n",
       "    <tr>\n",
       "      <th>1999-01</th>\n",
       "      <td>1.025007</td>\n",
       "      <td>0.642376</td>\n",
       "      <td>0.258660</td>\n",
       "      <td>0.127202</td>\n",
       "      <td>0.043947</td>\n",
       "      <td>0.180084</td>\n",
       "    </tr>\n",
       "    <tr>\n",
       "      <th>1999-02</th>\n",
       "      <td>1.027364</td>\n",
       "      <td>0.613212</td>\n",
       "      <td>0.274904</td>\n",
       "      <td>0.122394</td>\n",
       "      <td>0.038559</td>\n",
       "      <td>0.178194</td>\n",
       "    </tr>\n",
       "    <tr>\n",
       "      <th>1999-03</th>\n",
       "      <td>1.053562</td>\n",
       "      <td>0.669750</td>\n",
       "      <td>0.356907</td>\n",
       "      <td>0.120325</td>\n",
       "      <td>0.040537</td>\n",
       "      <td>0.184876</td>\n",
       "    </tr>\n",
       "    <tr>\n",
       "      <th>1999-04</th>\n",
       "      <td>0.995195</td>\n",
       "      <td>0.650394</td>\n",
       "      <td>0.438818</td>\n",
       "      <td>0.128965</td>\n",
       "      <td>0.043139</td>\n",
       "      <td>0.184247</td>\n",
       "    </tr>\n",
       "    <tr>\n",
       "      <th>1999-05</th>\n",
       "      <td>0.974793</td>\n",
       "      <td>0.633744</td>\n",
       "      <td>0.385063</td>\n",
       "      <td>0.137631</td>\n",
       "      <td>0.043282</td>\n",
       "      <td>0.177928</td>\n",
       "    </tr>\n",
       "    <tr>\n",
       "      <th>1999-06</th>\n",
       "      <td>1.018561</td>\n",
       "      <td>0.700541</td>\n",
       "      <td>0.296267</td>\n",
       "      <td>0.131727</td>\n",
       "      <td>0.048956</td>\n",
       "      <td>0.193816</td>\n",
       "    </tr>\n",
       "    <tr>\n",
       "      <th>1999-07</th>\n",
       "      <td>0.973337</td>\n",
       "      <td>0.680225</td>\n",
       "      <td>0.264715</td>\n",
       "      <td>0.130923</td>\n",
       "      <td>0.050116</td>\n",
       "      <td>0.181780</td>\n",
       "    </tr>\n",
       "    <tr>\n",
       "      <th>1999-08</th>\n",
       "      <td>1.009643</td>\n",
       "      <td>0.696006</td>\n",
       "      <td>0.295025</td>\n",
       "      <td>0.131735</td>\n",
       "      <td>0.054090</td>\n",
       "      <td>0.170383</td>\n",
       "    </tr>\n",
       "    <tr>\n",
       "      <th>1999-09</th>\n",
       "      <td>0.938059</td>\n",
       "      <td>0.729067</td>\n",
       "      <td>0.262513</td>\n",
       "      <td>0.126057</td>\n",
       "      <td>0.052662</td>\n",
       "      <td>0.175205</td>\n",
       "    </tr>\n",
       "    <tr>\n",
       "      <th>1999-10</th>\n",
       "      <td>1.039182</td>\n",
       "      <td>0.819762</td>\n",
       "      <td>0.326645</td>\n",
       "      <td>0.128793</td>\n",
       "      <td>0.054458</td>\n",
       "      <td>0.186208</td>\n",
       "    </tr>\n",
       "    <tr>\n",
       "      <th>1999-11</th>\n",
       "      <td>1.054770</td>\n",
       "      <td>0.791563</td>\n",
       "      <td>0.321843</td>\n",
       "      <td>0.119198</td>\n",
       "      <td>0.062267</td>\n",
       "      <td>0.193917</td>\n",
       "    </tr>\n",
       "    <tr>\n",
       "      <th>1999-12</th>\n",
       "      <td>0.995281</td>\n",
       "      <td>0.930165</td>\n",
       "      <td>0.385343</td>\n",
       "      <td>0.116408</td>\n",
       "      <td>0.073388</td>\n",
       "      <td>0.209721</td>\n",
       "    </tr>\n",
       "    <tr>\n",
       "      <th>2000-01</th>\n",
       "      <td>1.070524</td>\n",
       "      <td>0.813988</td>\n",
       "      <td>0.541483</td>\n",
       "      <td>0.123102</td>\n",
       "      <td>0.072919</td>\n",
       "      <td>0.179248</td>\n",
       "    </tr>\n",
       "    <tr>\n",
       "      <th>2000-02</th>\n",
       "      <td>1.039693</td>\n",
       "      <td>0.808127</td>\n",
       "      <td>0.522802</td>\n",
       "      <td>0.114165</td>\n",
       "      <td>0.091214</td>\n",
       "      <td>0.172204</td>\n",
       "    </tr>\n",
       "    <tr>\n",
       "      <th>2000-03</th>\n",
       "      <td>1.042604</td>\n",
       "      <td>0.944620</td>\n",
       "      <td>0.484951</td>\n",
       "      <td>0.120752</td>\n",
       "      <td>0.095373</td>\n",
       "      <td>0.196932</td>\n",
       "    </tr>\n",
       "    <tr>\n",
       "      <th>2000-04</th>\n",
       "      <td>1.097341</td>\n",
       "      <td>0.950004</td>\n",
       "      <td>0.410608</td>\n",
       "      <td>0.129929</td>\n",
       "      <td>0.089365</td>\n",
       "      <td>0.185904</td>\n",
       "    </tr>\n",
       "    <tr>\n",
       "      <th>2000-05</th>\n",
       "      <td>1.140576</td>\n",
       "      <td>0.953899</td>\n",
       "      <td>0.358790</td>\n",
       "      <td>0.134996</td>\n",
       "      <td>0.078954</td>\n",
       "      <td>0.180253</td>\n",
       "    </tr>\n",
       "    <tr>\n",
       "      <th>2000-06</th>\n",
       "      <td>1.271970</td>\n",
       "      <td>0.961244</td>\n",
       "      <td>0.411890</td>\n",
       "      <td>0.128570</td>\n",
       "      <td>0.089589</td>\n",
       "      <td>0.176395</td>\n",
       "    </tr>\n",
       "    <tr>\n",
       "      <th>2000-07</th>\n",
       "      <td>1.193617</td>\n",
       "      <td>0.955861</td>\n",
       "      <td>0.458764</td>\n",
       "      <td>0.134266</td>\n",
       "      <td>0.086597</td>\n",
       "      <td>0.172709</td>\n",
       "    </tr>\n",
       "    <tr>\n",
       "      <th>2000-08</th>\n",
       "      <td>1.236348</td>\n",
       "      <td>1.021146</td>\n",
       "      <td>0.540240</td>\n",
       "      <td>0.150002</td>\n",
       "      <td>0.097733</td>\n",
       "      <td>0.163607</td>\n",
       "    </tr>\n",
       "    <tr>\n",
       "      <th>2000-09</th>\n",
       "      <td>1.282340</td>\n",
       "      <td>0.909331</td>\n",
       "      <td>0.466119</td>\n",
       "      <td>0.164447</td>\n",
       "      <td>0.080258</td>\n",
       "      <td>0.167779</td>\n",
       "    </tr>\n",
       "    <tr>\n",
       "      <th>2000-10</th>\n",
       "      <td>1.315681</td>\n",
       "      <td>0.812487</td>\n",
       "      <td>0.499493</td>\n",
       "      <td>0.160764</td>\n",
       "      <td>0.074881</td>\n",
       "      <td>0.164876</td>\n",
       "    </tr>\n",
       "    <tr>\n",
       "      <th>2000-11</th>\n",
       "      <td>1.326075</td>\n",
       "      <td>0.735301</td>\n",
       "      <td>0.545646</td>\n",
       "      <td>0.165747</td>\n",
       "      <td>0.056266</td>\n",
       "      <td>0.163722</td>\n",
       "    </tr>\n",
       "    <tr>\n",
       "      <th>2000-12</th>\n",
       "      <td>1.372886</td>\n",
       "      <td>0.779860</td>\n",
       "      <td>0.785949</td>\n",
       "      <td>0.176653</td>\n",
       "      <td>0.051663</td>\n",
       "      <td>0.170778</td>\n",
       "    </tr>\n",
       "  </tbody>\n",
       "</table>\n",
       "</div>"
      ],
      "text/plain": [
       "             Hlth     ElcEq      Coal      Util     BusEq     Rtail\n",
       "1996-01  0.483091  0.246203  0.135458  0.091117  0.015851  0.065624\n",
       "1996-02  0.477922  0.244332  0.137924  0.088766  0.016924  0.069253\n",
       "1996-03  0.479069  0.251710  0.144172  0.088349  0.016146  0.074967\n",
       "1996-04  0.476195  0.252667  0.145094  0.086061  0.017851  0.078235\n",
       "1996-05  0.494909  0.268282  0.167918  0.087222  0.018597  0.082233\n",
       "1996-06  0.493969  0.276733  0.183618  0.091767  0.017416  0.081345\n",
       "1996-07  0.464034  0.263560  0.168231  0.086426  0.016110  0.075147\n",
       "1996-08  0.483477  0.267909  0.170182  0.088924  0.016927  0.080324\n",
       "1996-09  0.518965  0.294727  0.187762  0.089519  0.018726  0.082967\n",
       "1996-10  0.515436  0.311556  0.189696  0.092751  0.018490  0.081341\n",
       "1996-11  0.549764  0.333333  0.197436  0.095172  0.021073  0.083049\n",
       "1996-12  0.535140  0.323367  0.219766  0.095305  0.020570  0.079469\n",
       "1997-01  0.586246  0.337239  0.246709  0.096163  0.022682  0.079740\n",
       "1997-02  0.591756  0.334035  0.238666  0.095615  0.020856  0.084229\n",
       "1997-03  0.547967  0.324048  0.225778  0.092976  0.019767  0.083766\n",
       "1997-04  0.581721  0.356323  0.240996  0.091683  0.020957  0.085206\n",
       "1997-05  0.621918  0.388499  0.229790  0.095140  0.023095  0.090685\n",
       "1997-06  0.677207  0.414994  0.236408  0.098051  0.023319  0.096661\n",
       "1997-07  0.691157  0.450767  0.261940  0.100806  0.027715  0.105226\n",
       "1997-08  0.648720  0.408124  0.248266  0.099637  0.027532  0.102164\n",
       "1997-09  0.691601  0.442366  0.237392  0.104270  0.028619  0.107680\n",
       "1997-10  0.693399  0.419186  0.196537  0.105250  0.025511  0.105882\n",
       "1997-11  0.713230  0.469740  0.182720  0.112765  0.025680  0.112828\n",
       "1997-12  0.738550  0.469317  0.189280  0.121753  0.024465  0.112049\n",
       "1998-01  0.780868  0.491750  0.168970  0.116432  0.025705  0.113999\n",
       "1998-02  0.823426  0.498979  0.183806  0.119517  0.028201  0.126562\n",
       "1998-03  0.853151  0.547280  0.194209  0.127609  0.027598  0.135649\n",
       "1998-04  0.869532  0.540986  0.196035  0.124406  0.029671  0.135445\n",
       "1998-05  0.848055  0.527516  0.192761  0.123311  0.027588  0.140728\n",
       "1998-06  0.900464  0.561963  0.188482  0.126813  0.028859  0.149960\n",
       "1998-07  0.898483  0.550330  0.204541  0.120041  0.029916  0.146166\n",
       "1998-08  0.788329  0.488638  0.154039  0.122742  0.024710  0.126828\n",
       "1998-09  0.883008  0.488394  0.162050  0.132537  0.027977  0.126244\n",
       "1998-10  0.917003  0.537722  0.166846  0.130204  0.030853  0.141785\n",
       "1998-11  0.973674  0.559015  0.177041  0.131962  0.034019  0.157566\n",
       "1998-12  1.022553  0.626097  0.217069  0.135697  0.038815  0.173827\n",
       "1999-01  1.025007  0.642376  0.258660  0.127202  0.043947  0.180084\n",
       "1999-02  1.027364  0.613212  0.274904  0.122394  0.038559  0.178194\n",
       "1999-03  1.053562  0.669750  0.356907  0.120325  0.040537  0.184876\n",
       "1999-04  0.995195  0.650394  0.438818  0.128965  0.043139  0.184247\n",
       "1999-05  0.974793  0.633744  0.385063  0.137631  0.043282  0.177928\n",
       "1999-06  1.018561  0.700541  0.296267  0.131727  0.048956  0.193816\n",
       "1999-07  0.973337  0.680225  0.264715  0.130923  0.050116  0.181780\n",
       "1999-08  1.009643  0.696006  0.295025  0.131735  0.054090  0.170383\n",
       "1999-09  0.938059  0.729067  0.262513  0.126057  0.052662  0.175205\n",
       "1999-10  1.039182  0.819762  0.326645  0.128793  0.054458  0.186208\n",
       "1999-11  1.054770  0.791563  0.321843  0.119198  0.062267  0.193917\n",
       "1999-12  0.995281  0.930165  0.385343  0.116408  0.073388  0.209721\n",
       "2000-01  1.070524  0.813988  0.541483  0.123102  0.072919  0.179248\n",
       "2000-02  1.039693  0.808127  0.522802  0.114165  0.091214  0.172204\n",
       "2000-03  1.042604  0.944620  0.484951  0.120752  0.095373  0.196932\n",
       "2000-04  1.097341  0.950004  0.410608  0.129929  0.089365  0.185904\n",
       "2000-05  1.140576  0.953899  0.358790  0.134996  0.078954  0.180253\n",
       "2000-06  1.271970  0.961244  0.411890  0.128570  0.089589  0.176395\n",
       "2000-07  1.193617  0.955861  0.458764  0.134266  0.086597  0.172709\n",
       "2000-08  1.236348  1.021146  0.540240  0.150002  0.097733  0.163607\n",
       "2000-09  1.282340  0.909331  0.466119  0.164447  0.080258  0.167779\n",
       "2000-10  1.315681  0.812487  0.499493  0.160764  0.074881  0.164876\n",
       "2000-11  1.326075  0.735301  0.545646  0.165747  0.056266  0.163722\n",
       "2000-12  1.372886  0.779860  0.785949  0.176653  0.051663  0.170778"
      ]
     },
     "execution_count": 163,
     "metadata": {},
     "output_type": "execute_result"
    }
   ],
   "source": [
    "(ind['1996':'2000'][df_thresh.columns]+1).cumprod()*df_thresh.loc[0]"
   ]
  },
  {
   "cell_type": "code",
   "execution_count": null,
   "metadata": {},
   "outputs": [],
   "source": [
    "6 - creating a columns with sum of the weights"
   ]
  },
  {
   "cell_type": "code",
   "execution_count": 167,
   "metadata": {
    "scrolled": true
   },
   "outputs": [
    {
     "data": {
      "text/plain": [
       "1996-01    1.037345\n",
       "1996-02    1.035122\n",
       "1996-03    1.054413\n",
       "1996-04    1.056103\n",
       "1996-05    1.119162\n",
       "1996-06    1.144848\n",
       "1996-07    1.073508\n",
       "1996-08    1.107743\n",
       "1996-09    1.192666\n",
       "1996-10    1.209269\n",
       "1996-11    1.279827\n",
       "1996-12    1.273616\n",
       "1997-01    1.368778\n",
       "1997-02    1.365158\n",
       "1997-03    1.294301\n",
       "1997-04    1.376887\n",
       "1997-05    1.449127\n",
       "1997-06    1.546640\n",
       "1997-07    1.637610\n",
       "1997-08    1.534443\n",
       "1997-09    1.611929\n",
       "1997-10    1.545765\n",
       "1997-11    1.616963\n",
       "1997-12    1.655414\n",
       "1998-01    1.697726\n",
       "1998-02    1.780491\n",
       "1998-03    1.885497\n",
       "1998-04    1.896075\n",
       "1998-05    1.859958\n",
       "1998-06    1.956541\n",
       "1998-07    1.949476\n",
       "1998-08    1.705287\n",
       "1998-09    1.820209\n",
       "1998-10    1.924414\n",
       "1998-11    2.033277\n",
       "1998-12    2.214058\n",
       "1999-01    2.277275\n",
       "1999-02    2.254626\n",
       "1999-03    2.425957\n",
       "1999-04    2.440758\n",
       "1999-05    2.352440\n",
       "1999-06    2.389868\n",
       "1999-07    2.281097\n",
       "1999-08    2.356882\n",
       "1999-09    2.283563\n",
       "1999-10    2.555047\n",
       "1999-11    2.543557\n",
       "1999-12    2.710306\n",
       "2000-01    2.801264\n",
       "2000-02    2.748204\n",
       "2000-03    2.885232\n",
       "2000-04    2.863151\n",
       "2000-05    2.847467\n",
       "2000-06    3.039659\n",
       "2000-07    3.001813\n",
       "2000-08    3.209076\n",
       "2000-09    3.070275\n",
       "2000-10    3.028182\n",
       "2000-11    2.992757\n",
       "2000-12    3.337790\n",
       "Freq: M, Name: sum_w, dtype: float64"
      ]
     },
     "execution_count": 167,
     "metadata": {},
     "output_type": "execute_result"
    }
   ],
   "source": [
    "ind['sum_w'] = ((ind['1996':'2000'][df_thresh.columns]+1).cumprod()*df_thresh.loc[0]).sum(axis =1)\n",
    "ind['1996':'2000']['sum_w']"
   ]
  },
  {
   "cell_type": "code",
   "execution_count": 186,
   "metadata": {},
   "outputs": [
    {
     "name": "stdout",
     "output_type": "stream",
     "text": [
      "Total return of the weighted portfolio: 3.34\n"
     ]
    },
    {
     "data": {
      "image/png": "[encoded data removed]",
      "text/plain": [
       "<Figure size 720x576 with 1 Axes>"
      ]
     },
     "metadata": {
      "needs_background": "light"
     },
     "output_type": "display_data"
    }
   ],
   "source": [
    "plt.figure(figsize = (10,8))\n",
    "ind['1996':'2000']['sum_w'].plot()\n",
    "print(\"Total return of the weighted portfolio: {:.3}\".format(ind['1996':'2000']['sum_w'].iloc[-1]))"
   ]
  },
  {
   "cell_type": "markdown",
   "metadata": {},
   "source": [
    "### plotting drawdowns"
   ]
  },
  {
   "cell_type": "code",
   "execution_count": 189,
   "metadata": {},
   "outputs": [],
   "source": [
    "ret = ind['1996':'2000']['sum_w']"
   ]
  },
  {
   "cell_type": "code",
   "execution_count": 195,
   "metadata": {},
   "outputs": [
    {
     "data": {
      "text/plain": [
       "<matplotlib.axes._subplots.AxesSubplot at 0x13961efc710>"
      ]
     },
     "execution_count": 195,
     "metadata": {},
     "output_type": "execute_result"
    },
    {
     "data": {
      "image/png": "[encoded data removed]",
      "text/plain": [
       "<Figure size 432x288 with 1 Axes>"
      ]
     },
     "metadata": {
      "needs_background": "light"
     },
     "output_type": "display_data"
    }
   ],
   "source": [
    "ret.plot(c = 'b')\n",
    "ret.cummax().plot(c = 'r')"
   ]
  },
  {
   "cell_type": "code",
   "execution_count": 197,
   "metadata": {},
   "outputs": [
    {
     "data": {
      "text/plain": [
       "<matplotlib.axes._subplots.AxesSubplot at 0x13961d32a90>"
      ]
     },
     "execution_count": 197,
     "metadata": {},
     "output_type": "execute_result"
    },
    {
     "data": {
      "image/png": "[encoded data removed]",
      "text/plain": [
       "<Figure size 432x288 with 1 Axes>"
      ]
     },
     "metadata": {
      "needs_background": "light"
     },
     "output_type": "display_data"
    }
   ],
   "source": [
    "(ret-ret.cummax()).plot()"
   ]
  },
  {
   "cell_type": "markdown",
   "metadata": {},
   "source": [
    "### std\n",
    "<p> standard deviation of the population</p>"
   ]
  },
  {
   "cell_type": "code",
   "execution_count": 221,
   "metadata": {},
   "outputs": [
    {
     "data": {
      "text/plain": [
       "0.04706298633977056"
      ]
     },
     "execution_count": 221,
     "metadata": {},
     "output_type": "execute_result"
    }
   ],
   "source": [
    "pct_ret = (ret.pct_change())\n",
    "std_ret = pct_ret.std(ddof=0)\n",
    "std_ret"
   ]
  },
  {
   "cell_type": "markdown",
   "metadata": {},
   "source": [
    "#### ret semi deviation\n",
    "<p> standard deviation only with negative returns </p>"
   ]
  },
  {
   "cell_type": "code",
   "execution_count": 225,
   "metadata": {},
   "outputs": [
    {
     "data": {
      "text/plain": [
       "0.02954802477900107"
      ]
     },
     "execution_count": 225,
     "metadata": {},
     "output_type": "execute_result"
    }
   ],
   "source": [
    "neg_pct_ret = pct_ret[pct_ret <= 0].std()\n",
    "neg_pct_ret "
   ]
  },
  {
   "cell_type": "code",
   "execution_count": 229,
   "metadata": {},
   "outputs": [
    {
     "data": {
      "text/plain": [
       "nan"
      ]
     },
     "execution_count": 229,
     "metadata": {},
     "output_type": "execute_result"
    }
   ],
   "source": [
    "np.percentile(pct_ret, 5)"
   ]
  },
  {
   "cell_type": "code",
   "execution_count": 233,
   "metadata": {},
   "outputs": [
    {
     "data": {
      "text/plain": [
       "-0.0529445623151042"
      ]
     },
     "execution_count": 233,
     "metadata": {},
     "output_type": "execute_result"
    }
   ],
   "source": [
    "np.percentile(pct_ret.dropna(), 5)"
   ]
  },
  {
   "cell_type": "markdown",
   "metadata": {},
   "source": [
    "with 95% of confidence the portifolio can present max losses of 5,29% over that period in one mounth"
   ]
  },
  {
   "cell_type": "markdown",
   "metadata": {},
   "source": [
    "### VaR = Cornish- Fisher"
   ]
  },
  {
   "cell_type": "code",
   "execution_count": 239,
   "metadata": {},
   "outputs": [],
   "source": [
    "def var_gaussian(r, level = 5, modified = False):\n",
    "    \"\"\"\n",
    "    Returns a Gaussian Value at Risc at specified Level\n",
    "    if modified == True, returns a Modified Cornish-Fischer adjusting the z factor\n",
    "    \"\"\"\n",
    "    z = norm.ppf(level/100)\n",
    "    \n",
    "    if modified:\n",
    "        s = erk.skewness(r)\n",
    "        k = erk.kurtosis(r)\n",
    "        z = (z + \n",
    "                 (z**2 -1)*s/6 +\n",
    "                 (z**3 -3*z)*(k-3)/24 -\n",
    "                 (2*z**3 -5*z)*(s**2)/36\n",
    "            )\n",
    "    return -(r.mean()+z*r.std(ddof=0))"
   ]
  },
  {
   "cell_type": "code",
   "execution_count": 242,
   "metadata": {},
   "outputs": [
    {
     "data": {
      "text/plain": [
       "-0.06167126672437889"
      ]
     },
     "execution_count": 242,
     "metadata": {},
     "output_type": "execute_result"
    }
   ],
   "source": [
    "from scipy.stats import norm\n",
    "-var_gaussian(pct_ret,5, modified=True)"
   ]
  },
  {
   "cell_type": "code",
   "execution_count": null,
   "metadata": {},
   "outputs": [],
   "source": []
  }
 ],
 "metadata": {
  "kernelspec": {
   "display_name": "Python 3",
   "language": "python",
   "name": "python3"
  },
  "language_info": {
   "codemirror_mode": {
    "name": "ipython",
    "version": 3
   },
   "file_extension": ".py",
   "mimetype": "text/x-python",
   "name": "python",
   "nbconvert_exporter": "python",
   "pygments_lexer": "ipython3",
   "version": "3.7.3"
  }
 },
 "nbformat": 4,
 "nbformat_minor": 4
}
